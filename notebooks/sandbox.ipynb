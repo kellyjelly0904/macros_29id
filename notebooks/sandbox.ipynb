{
 "cells": [
  {
   "cell_type": "code",
   "execution_count": 3,
   "source": [
    "\n",
    "def AllDiag_dict():\n",
    "    \"\"\"\n",
    "    Dictionary of Diagnostic positions In and Out by either motor number or name\n",
    "    WARNING: When updating motor values, also update the following screens:\n",
    "        - 29id_BL_Layout.ui               (for MeshD and DiodeC)\n",
    "        - 29id_Diagnostic.ui\n",
    "        - 29idd_graphic\n",
    "    useage:       \n",
    "        AllDiag_dict()['name'] returns dictionary motor:name\n",
    "        AllDiag_dict()['motor'] returns dictionary name:motor   \n",
    "        AllDiag_dict()['In'] returns dictionary motor:In position  (where val can be a list for multiple position)  \n",
    "        AllDiag_dict()['Out'] returns dictionary motor:In position  \n",
    "                motor=AllDiag_dict()['motor']['gas-cell']\n",
    "                pos_in=AllDiag_dict()['In'][motor]\n",
    "    \"\"\"\n",
    "    diag={}\n",
    "    diag[\"In\"]  = {                5:-55, 6:-46,          17:-56, 20:-30, 25:-56, 28:[-57,-71.25]}\n",
    "                                                                                    \n",
    "    diag[\"Out\"] = {1:-4, 2:-10, 3:-4, 4:-4, 5:-20, 6:-20, 7:-20, 17:-20, 20:-21, 25:-20, 28:-20}    \n",
    "    diag[\"name\"]= {1:\"H-wire\", 2:\"V-wire\", 3:\"H-Diagon\", 4:\"V-Diagon\", 5:\"W-mesh\",\n",
    "     6:\"D2B\", 7:\"D3B\", 17:\"D4C/pre-slit\", 20:\"gas-cell\", 25:\"D4D/pre-slit\", 28:\"D5D/pre-RSXS\"}\n",
    "    diag[\"motor\"]= {\"H-wire\":1, \"V-wire\":2, \"H-Diagon\":3, \"V-Diagon\":4,\"W-mesh\":5,\n",
    "     \"D2B\":6, \"D3B\":7, \"D4C\":17, \"gas-cell\":20,\"D4D\":25,\"D5D\":28}\n",
    "    return diag"
   ],
   "outputs": [],
   "metadata": {}
  },
  {
   "cell_type": "code",
   "execution_count": 7,
   "source": [
    "x=True\n",
    "diag = AllDiag_dict()\n",
    "motor_number = 28\n",
    "placement = 'In'\n",
    "position = diag[placement][motor_number]"
   ],
   "outputs": [],
   "metadata": {}
  },
  {
   "cell_type": "code",
   "execution_count": 9,
   "source": [
    "if isinstance(position,list):\n",
    "    position=position[1]\n",
    "print(position)"
   ],
   "outputs": [
    {
     "output_type": "stream",
     "name": "stdout",
     "text": [
      "-71.25\n"
     ]
    }
   ],
   "metadata": {}
  },
  {
   "cell_type": "markdown",
   "source": [
    "# Bluesky documentation reference tables\n",
    "\n",
    "## The most common ophyd imports\n",
    "\n",
    "class | import | description | URL\n",
    "--- | --- | --- | ---\n",
    "`EpicsSignal` | `from ophyd import EpicsSignal` | connect with ONE PV | part of https://blueskyproject.io/ophyd/tutorials/device.html?highlight=epicssignalro#define-a-custom-device\n",
    "`EpicsSignalRO` | `from ophyd import EpicsSignalRO` | connect with ONE read-only PV | part of https://blueskyproject.io/ophyd/tutorials/device.html?highlight=epicssignalro#define-a-custom-device\n",
    "`EpicsSignalWithRBV` | `from ophyd import EpicsSignalWithRBV` | connect with TWO PVs (one for read AND one for write) | https://blueskyproject.io/ophyd/generated/ophyd.areadetector.base.EpicsSignalWithRBV.html#ophyd.areadetector.base.EpicsSignalWithRBV\n",
    "`EpicsMotor` | `from ophyd import EpicsMotor` | connect with ONE EPICS motor record | https://blueskyproject.io/ophyd/generated/ophyd.epics_motor.EpicsMotor.html#ophyd.epics_motor.EpicsMotor\n",
    "`ScalerCH` | `from ophyd.scaler import ScalerCH` | connect with one EPICS scaler record | https://blueskyproject.io/ophyd/generated/ophyd.scaler.ScalerCH.html#ophyd.scaler.ScalerCH\n",
    "`Signal` | `from ophyd import Signal` | fundamental single piece of information, non-EPICS, in Python memory only\n",
    "`Device` | `from ophyd import Device` | make a group of Signal(s) and/or Device(s) | part of https://blueskyproject.io/ophyd/tutorials/device.html?highlight=epicssignalro#define-a-custom-device\n",
    "`Component` | `from ophyd import Component` | Used in a Device to define one attribute | part of https://blueskyproject.io/ophyd/tutorials/device.html?highlight=epicssignalro#define-a-custom-device\n",
    "\n",
    "EpicsSignalWithRBV is for PV pairs that fit this pattern:\n",
    "\n",
    "ioc:thing           # this is a SP\n",
    "ioc:thing_RBV       # this is read only\n",
    "\n",
    "signal = EpicsSignalWithRBV(\"ioc:thing\", name=\"signal\")\n",
    "\n",
    "\n",
    "other: EPICS Area Detector, MCA\n",
    "\n",
    "## The most common bluesky imports\n",
    "description | import | URL\n",
    "--- | --- | ---\n",
    "Pre-assembled Plans | `from bluesky import plans as bp` | https://blueskyproject.io/bluesky/plans.html\n",
    "Stub Plans (used in plans) | `from bluesky import plan_stubs as bps` | https://blueskyproject.io/bluesky/plans.html#stub-plans\n",
    "\n",
    "Other: databroker, metadata, baseline, monitor"
   ],
   "metadata": {}
  },
  {
   "cell_type": "code",
   "execution_count": null,
   "source": [],
   "outputs": [],
   "metadata": {}
  }
 ],
 "metadata": {
  "orig_nbformat": 4,
  "language_info": {
   "name": "python",
   "version": "3.9.7",
   "mimetype": "text/x-python",
   "codemirror_mode": {
    "name": "ipython",
    "version": 3
   },
   "pygments_lexer": "ipython3",
   "nbconvert_exporter": "python",
   "file_extension": ".py"
  },
  "kernelspec": {
   "name": "python3",
   "display_name": "Python 3.9.7 64-bit ('bluesky': conda)"
  },
  "interpreter": {
   "hash": "e686e78fa4f3d308d509deea16dc3f80d85033c3d385d9bed645a575c637f8f3"
  }
 },
 "nbformat": 4,
 "nbformat_minor": 2
}