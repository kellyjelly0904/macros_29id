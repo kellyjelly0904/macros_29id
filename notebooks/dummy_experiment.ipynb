{
 "cells": [
  {
   "cell_type": "code",
   "execution_count": 2,
   "source": [
    "import os\n",
    "\n",
    "from epics import caput, caget \n"
   ],
   "outputs": [],
   "metadata": {}
  },
  {
   "cell_type": "markdown",
   "source": [
    "## Setup Experiment"
   ],
   "metadata": {}
  },
  {
   "cell_type": "code",
   "execution_count": null,
   "source": [
    "from IEX_29id.utils.exp import Check_run\n",
    "\n",
    "##User setup variables\n",
    "username = \"Fanny\"\n",
    "scanIOC = \"Kappa\"\n",
    "mode = \"User\"\n",
    "\n",
    "run = Check_run()"
   ],
   "outputs": [],
   "metadata": {}
  },
  {
   "cell_type": "code",
   "execution_count": null,
   "source": [
    "##SET BEAMLINE MODE\n",
    "from IEX_29id.utils.exp import BL_Mode_Set\n",
    "from IEX_29id.utils.folders import logname_set \n",
    "\n",
    "if mode == 'Staff':\n",
    "    folder=\"b\" \n",
    "    BL_Mode_Set(\"Staff\")\n",
    "else:\n",
    "    folder=\"d\"\n",
    "    BL_Mode_Set(\"User\")\n",
    "\n",
    "## CREATE DATA FOLDER\n",
    "from IEX_29id.utils.folders import Make_DataFolder, Folder_mda\n",
    "ftp = False\n",
    "Make_DataFolder(run,folder,username,scanIOC,ftp)\n",
    "\n",
    "## SETUP SCAN\n",
    "set_scans = True\n",
    "\n",
    "if set_scans:\n",
    "    # Set up MDA folder:\n",
    "    Folder_mda(run,folder,username,scanIOC)\n",
    "    print(\"\\nScanIOC set to:\", scanIOC)\n",
    "    SaveStatus=caget('29id'+scanIOC+':saveData_status',as_string=True)\n",
    "    SaveMessage=caget('29id'+scanIOC+':saveData_message',as_string=True)\n",
    "    print(\"\\nSave Status \"+scanIOC+\": \"+SaveStatus+\" - \"+SaveMessage)\n",
    "    logname_set(scanIOC=scanIOC)\n"
   ],
   "outputs": [],
   "metadata": {}
  },
  {
   "cell_type": "markdown",
   "source": [
    "## Experimental users"
   ],
   "metadata": {}
  },
  {
   "cell_type": "code",
   "execution_count": null,
   "source": [
    "\n",
    "## this where we save the data? \n",
    "server_path = '/net/s29data/export/data_29idd'\n",
    "\n",
    "path=os.path.join(server_path, '2021_2/NXschool/mda')"
   ],
   "outputs": [],
   "metadata": {}
  },
  {
   "cell_type": "code",
   "execution_count": null,
   "source": [
    "from IEX_29id.devices.kappa import Sync_PI_Motor, Sync_Euler_Motor, Home_SmarAct_Motor\n",
    "from IEX_29id.devices.ca import Reset_CA_all\n",
    "from IEX_29id.devices.mono import Reset_Mono_Limits\n",
    "from IEX_29id.scans import Reset_Scan\n",
    "from IEX_29id.utils.status import Get_All, mprint\n",
    "from IEX_29id.utils.plot import plot_image\n",
    "\n",
    "Reset_Scan('Kappa')\n",
    "Reset_CA_all()\n",
    "Reset_Mono_Limits()\n",
    "Home_SmarAct_Motor()\n",
    "Sync_PI_Motor()\n",
    "Sync_Euler_Motor()\n",
    "Get_All(); mprint()   # print current status of the beamline; \n",
    "plot_image('/home/beams/29IDUSER/Documents/User_Folders/Staff/Figures/kappa.png')\n"
   ],
   "outputs": [],
   "metadata": {}
  },
  {
   "cell_type": "code",
   "execution_count": null,
   "source": [],
   "outputs": [],
   "metadata": {}
  }
 ],
 "metadata": {
  "orig_nbformat": 4,
  "language_info": {
   "name": "python",
   "version": "3.9.7",
   "mimetype": "text/x-python",
   "codemirror_mode": {
    "name": "ipython",
    "version": 3
   },
   "pygments_lexer": "ipython3",
   "nbconvert_exporter": "python",
   "file_extension": ".py"
  },
  "kernelspec": {
   "name": "python3",
   "display_name": "Python 3.9.7 64-bit ('bluesky': conda)"
  },
  "interpreter": {
   "hash": "e686e78fa4f3d308d509deea16dc3f80d85033c3d385d9bed645a575c637f8f3"
  }
 },
 "nbformat": 4,
 "nbformat_minor": 2
}