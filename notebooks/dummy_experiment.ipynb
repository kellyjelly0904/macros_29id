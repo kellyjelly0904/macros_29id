{
 "cells": [
  {
   "cell_type": "code",
   "execution_count": 2,
   "source": [
    "import os\n",
    "\n",
    "from epics import caput, caget \n"
   ],
   "outputs": [],
   "metadata": {}
  },
  {
   "cell_type": "markdown",
   "source": [
    "## Setup Experiment"
   ],
   "metadata": {}
  },
  {
   "cell_type": "code",
   "execution_count": null,
   "source": [
    "from IEX_29id.utils.exp import Check_run\n",
    "\n",
    "##User setup variables\n",
    "username = \"Fanny\"\n",
    "scanIOC = \"Kappa\"\n",
    "mode = \"User\"\n",
    "\n",
    "run = Check_run()"
   ],
   "outputs": [],
   "metadata": {}
  },
  {
   "cell_type": "code",
   "execution_count": null,
   "source": [
    "##SET BEAMLINE MODE\n",
    "from IEX_29id.utils.exp import BL_Mode_Set\n",
    "from IEX_29id.utils.folders import logname_set \n",
    "\n",
    "if mode == 'Staff':\n",
    "    folder=\"b\" \n",
    "    BL_Mode_Set(\"Staff\")\n",
    "else:\n",
    "    folder=\"d\"\n",
    "    BL_Mode_Set(\"User\")\n",
    "\n",
    "## CREATE DATA FOLDER\n",
    "from IEX_29id.utils.folders import Make_DataFolder, Folder_mda\n",
    "ftp = False\n",
    "Make_DataFolder(run,folder,username,scanIOC,ftp)\n",
    "\n",
    "## SETUP SCAN SAVING\n",
    "set_scans = True\n",
    "\n",
    "if set_scans:\n",
    "    # Set up MDA folder:\n",
    "    Folder_mda(run,folder,username,scanIOC)\n",
    "    print(\"\\nScanIOC set to:\", scanIOC)\n",
    "    SaveStatus=caget('29id'+scanIOC+':saveData_status',as_string=True)\n",
    "    SaveMessage=caget('29id'+scanIOC+':saveData_message',as_string=True)\n",
    "    print(\"\\nSave Status \"+scanIOC+\": \"+SaveStatus+\" - \"+SaveMessage)\n",
    "    logname_set(scanIOC=scanIOC)\n"
   ],
   "outputs": [],
   "metadata": {}
  },
  {
   "cell_type": "markdown",
   "source": [
    "## Experimental users"
   ],
   "metadata": {}
  },
  {
   "cell_type": "code",
   "execution_count": null,
   "source": [
    "\n",
    "## this where we save the data? \n",
    "server_path = '/net/s29data/export/data_29idd'\n",
    "\n",
    "path=os.path.join(server_path, '2021_2/NXschool/mda')"
   ],
   "outputs": [],
   "metadata": {}
  },
  {
   "cell_type": "code",
   "execution_count": null,
   "source": [
    "from IEX_29id.devices.kappa import Sync_PI_Motor, Sync_Euler_Motor, Home_SmarAct_Motor\n",
    "from IEX_29id.devices.keithleys import Reset_CA_all\n",
    "from IEX_29id.devices.mono import Reset_Mono_Limits\n",
    "from IEX_29id.scans import Reset_Scan\n",
    "from IEX_29id.utils.status import Get_All, mprint\n",
    "from IEX_29id.utils.plot import plot_image\n",
    "\n",
    "Reset_Scan('Kappa')\n",
    "Reset_CA_all()\n",
    "Reset_Mono_Limits()\n",
    "Home_SmarAct_Motor()\n",
    "Sync_PI_Motor()\n",
    "Sync_Euler_Motor()\n",
    "Get_All(); mprint()   # print current status of the beamline; \n",
    "plot_image('/home/beams/29IDUSER/Documents/User_Folders/Staff/Figures/kappa.png')\n"
   ],
   "outputs": [],
   "metadata": {}
  },
  {
   "cell_type": "code",
   "execution_count": null,
   "source": [
    "## DEFINE DETECTOR\n",
    "from IEX_29id.devices.detectors import set_detector\n",
    "set_detector('d3')"
   ],
   "outputs": [],
   "metadata": {}
  },
  {
   "cell_type": "code",
   "execution_count": null,
   "source": [
    "## SCAN MOTOR\n",
    "from IEX_29id.scans import scantth\n",
    "scantth(-5,5,0.5)   # scan from -5 to 5  by 0.5 steps"
   ],
   "outputs": [],
   "metadata": {}
  },
  {
   "cell_type": "code",
   "execution_count": null,
   "source": [
    "## PLOT \n",
    "plot_mda(1,33)   # plot scan #1 for detector #33  (big diode)"
   ],
   "outputs": [],
   "metadata": {}
  },
  {
   "cell_type": "code",
   "execution_count": null,
   "source": [
    "from IEX_29id.devices.kappa import mvtth\n",
    "\n",
    "set_detector('d4')\n",
    "mvtth(0)\n",
    "scantth(-0.25,0.25,0.025)\n"
   ],
   "outputs": [],
   "metadata": {}
  },
  {
   "cell_type": "code",
   "execution_count": null,
   "source": [
    "fit_d4(3)\n",
    "fit_mda(10,34,0.1,'gauss')"
   ],
   "outputs": [],
   "metadata": {}
  },
  {
   "cell_type": "code",
   "execution_count": 1,
   "source": [
    "# kappa:\n",
    "tth0_set()\n",
    "dscanz(-750,750,50)\n",
    "dscanx(-0.5,0.5,0.05)  \n",
    "dscany(-0.5,0.5,0.05)  \n",
    "dscanth(-0.5,0.5,0.05) \n",
    "dscanchi(-5,5,0.5)\n",
    "dscanphi(-5,5,0.5)\n",
    "mvz(1967)\n",
    "mvx(0)\n",
    "mvy(0)\n",
    "mvth(th0)\n",
    "uan(10,5)\n",
    "scanx(-5000,5000,250)\n",
    "scany(-5000,5000,250)\n",
    "scanz(-5000,5000,250)\n",
    "\n",
    "\n",
    "# exp:\n",
    "Switch_Branch()\n",
    "\n",
    "# energy:\n",
    "energy(2570)\n",
    "\n",
    "#undulator:\n",
    "polarization('H')\n",
    "\n",
    "#mono:\n",
    "grating()\n",
    "\n",
    "# slits\n",
    "slit(100)\n",
    "\n"
   ],
   "outputs": [
    {
     "output_type": "error",
     "ename": "NameError",
     "evalue": "name 'tth0_set' is not defined",
     "traceback": [
      "\u001b[0;31m---------------------------------------------------------------------------\u001b[0m",
      "\u001b[0;31mNameError\u001b[0m                                 Traceback (most recent call last)",
      "\u001b[0;32m/var/folders/7r/8t3hp15x7pg9stvd6qjzl_n00001qz/T/ipykernel_17657/1690206991.py\u001b[0m in \u001b[0;36m<module>\u001b[0;34m\u001b[0m\n\u001b[1;32m      1\u001b[0m \u001b[0;31m# kappa:\u001b[0m\u001b[0;34m\u001b[0m\u001b[0;34m\u001b[0m\u001b[0m\n\u001b[0;32m----> 2\u001b[0;31m \u001b[0mtth0_set\u001b[0m\u001b[0;34m(\u001b[0m\u001b[0;34m)\u001b[0m\u001b[0;34m\u001b[0m\u001b[0;34m\u001b[0m\u001b[0m\n\u001b[0m\u001b[1;32m      3\u001b[0m \u001b[0mdscanz\u001b[0m\u001b[0;34m(\u001b[0m\u001b[0;34m-\u001b[0m\u001b[0;36m750\u001b[0m\u001b[0;34m,\u001b[0m\u001b[0;36m750\u001b[0m\u001b[0;34m,\u001b[0m\u001b[0;36m50\u001b[0m\u001b[0;34m)\u001b[0m\u001b[0;34m\u001b[0m\u001b[0;34m\u001b[0m\u001b[0m\n\u001b[1;32m      4\u001b[0m \u001b[0mdscanx\u001b[0m\u001b[0;34m(\u001b[0m\u001b[0;34m-\u001b[0m\u001b[0;36m0.5\u001b[0m\u001b[0;34m,\u001b[0m\u001b[0;36m0.5\u001b[0m\u001b[0;34m,\u001b[0m\u001b[0;36m0.05\u001b[0m\u001b[0;34m)\u001b[0m\u001b[0;34m\u001b[0m\u001b[0;34m\u001b[0m\u001b[0m\n\u001b[1;32m      5\u001b[0m \u001b[0mdscany\u001b[0m\u001b[0;34m(\u001b[0m\u001b[0;34m-\u001b[0m\u001b[0;36m0.5\u001b[0m\u001b[0;34m,\u001b[0m\u001b[0;36m0.5\u001b[0m\u001b[0;34m,\u001b[0m\u001b[0;36m0.05\u001b[0m\u001b[0;34m)\u001b[0m\u001b[0;34m\u001b[0m\u001b[0;34m\u001b[0m\u001b[0m\n",
      "\u001b[0;31mNameError\u001b[0m: name 'tth0_set' is not defined"
     ]
    }
   ],
   "metadata": {}
  },
  {
   "cell_type": "code",
   "execution_count": null,
   "source": [],
   "outputs": [],
   "metadata": {}
  },
  {
   "cell_type": "code",
   "execution_count": null,
   "source": [],
   "outputs": [],
   "metadata": {}
  },
  {
   "cell_type": "code",
   "execution_count": null,
   "source": [],
   "outputs": [],
   "metadata": {}
  },
  {
   "cell_type": "code",
   "execution_count": null,
   "source": [],
   "outputs": [],
   "metadata": {}
  },
  {
   "cell_type": "code",
   "execution_count": null,
   "source": [
    "# Fanny checked to here"
   ],
   "outputs": [],
   "metadata": {}
  },
  {
   "cell_type": "code",
   "execution_count": null,
   "source": [],
   "outputs": [],
   "metadata": {}
  }
 ],
 "metadata": {
  "orig_nbformat": 4,
  "language_info": {
   "name": "python",
   "version": "3.9.7",
   "mimetype": "text/x-python",
   "codemirror_mode": {
    "name": "ipython",
    "version": 3
   },
   "pygments_lexer": "ipython3",
   "nbconvert_exporter": "python",
   "file_extension": ".py"
  },
  "kernelspec": {
   "name": "python3",
   "display_name": "Python 3.9.7 64-bit ('bluesky': conda)"
  },
  "interpreter": {
   "hash": "e686e78fa4f3d308d509deea16dc3f80d85033c3d385d9bed645a575c637f8f3"
  }
 },
 "nbformat": 4,
 "nbformat_minor": 2
}