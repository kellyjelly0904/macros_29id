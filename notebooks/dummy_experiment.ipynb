{
 "cells": [
  {
   "cell_type": "code",
   "execution_count": 3,
   "source": [
    "import os\r\n",
    "\r\n",
    "from epics import caput, caget \r\n"
   ],
   "outputs": [
    {
     "output_type": "execute_result",
     "data": {
      "text/plain": [
       "<function epics.caput(pvname, value, wait=False, timeout=60.0, connection_timeout=5.0)>"
      ]
     },
     "metadata": {},
     "execution_count": 3
    }
   ],
   "metadata": {}
  },
  {
   "cell_type": "markdown",
   "source": [
    "## Setup Experiment"
   ],
   "metadata": {}
  },
  {
   "cell_type": "code",
   "execution_count": null,
   "source": [
    "from IEX_29id.utils.exp import Check_run\r\n",
    "\r\n",
    "##User setup variables\r\n",
    "username = \"Fanny\"\r\n",
    "scanIOC = \"Kappa\"\r\n",
    "mode = \"User\"\r\n",
    "\r\n",
    "run = Check_run()"
   ],
   "outputs": [],
   "metadata": {}
  },
  {
   "cell_type": "code",
   "execution_count": 4,
   "source": [
    "##SET BEAMLINE MODE\r\n",
    "from IEX_29id.utils.exp import BL_Mode_Set\r\n",
    "from IEX_29id.utils.folders import logname_set \r\n",
    "\r\n",
    "if mode == 'Staff':\r\n",
    "    folder=\"b\" \r\n",
    "    BL_Mode_Set(\"Staff\")\r\n",
    "else:\r\n",
    "    folder=\"d\"\r\n",
    "    BL_Mode_Set(\"User\")\r\n",
    "\r\n",
    "## CREATE DATA FOLDER\r\n",
    "from IEX_29id.utils.folders import Make_DataFolder, Folder_mda\r\n",
    "ftp = False\r\n",
    "Make_DataFolder(run,folder,username,scanIOC,ftp)\r\n",
    "\r\n",
    "## SETUP SCAN\r\n",
    "set_scans = True\r\n",
    "\r\n",
    "if set_scans:\r\n",
    "    # Set up MDA folder:\r\n",
    "    Folder_mda(run,folder,username,scanIOC)\r\n",
    "    print(\"\\nScanIOC set to:\", scanIOC)\r\n",
    "    SaveStatus=caget('29id'+scanIOC+':saveData_status',as_string=True)\r\n",
    "    SaveMessage=caget('29id'+scanIOC+':saveData_message',as_string=True)\r\n",
    "    print(\"\\nSave Status \"+scanIOC+\": \"+SaveStatus+\" - \"+SaveMessage)\r\n",
    "    logname_set(scanIOC=scanIOC)\r\n"
   ],
   "outputs": [
    {
     "output_type": "error",
     "ename": "ModuleNotFoundError",
     "evalue": "No module named 'IEX_29id'",
     "traceback": [
      "\u001b[1;31m---------------------------------------------------------------------------\u001b[0m",
      "\u001b[1;31mModuleNotFoundError\u001b[0m                       Traceback (most recent call last)",
      "\u001b[1;32m~\\AppData\\Local\\Temp/ipykernel_7660/1010091201.py\u001b[0m in \u001b[0;36m<module>\u001b[1;34m\u001b[0m\n\u001b[0;32m      1\u001b[0m \u001b[1;31m##SET BEAMLINE MODE\u001b[0m\u001b[1;33m\u001b[0m\u001b[1;33m\u001b[0m\u001b[0m\n\u001b[1;32m----> 2\u001b[1;33m \u001b[1;32mfrom\u001b[0m \u001b[0mIEX_29id\u001b[0m\u001b[1;33m.\u001b[0m\u001b[0mutils\u001b[0m\u001b[1;33m.\u001b[0m\u001b[0mexp\u001b[0m \u001b[1;32mimport\u001b[0m \u001b[0mBL_Mode_Set\u001b[0m\u001b[1;33m\u001b[0m\u001b[1;33m\u001b[0m\u001b[0m\n\u001b[0m\u001b[0;32m      3\u001b[0m \u001b[1;33m\u001b[0m\u001b[0m\n\u001b[0;32m      4\u001b[0m \u001b[1;32mif\u001b[0m \u001b[0mmode\u001b[0m \u001b[1;33m==\u001b[0m \u001b[1;34m'Staff'\u001b[0m\u001b[1;33m:\u001b[0m\u001b[1;33m\u001b[0m\u001b[1;33m\u001b[0m\u001b[0m\n\u001b[0;32m      5\u001b[0m     \u001b[0mfolder\u001b[0m\u001b[1;33m=\u001b[0m\u001b[1;34m\"b\"\u001b[0m\u001b[1;33m\u001b[0m\u001b[1;33m\u001b[0m\u001b[0m\n",
      "\u001b[1;31mModuleNotFoundError\u001b[0m: No module named 'IEX_29id'"
     ]
    }
   ],
   "metadata": {}
  },
  {
   "cell_type": "markdown",
   "source": [
    "## Experimental users"
   ],
   "metadata": {}
  },
  {
   "cell_type": "code",
   "execution_count": null,
   "source": [
    "\r\n",
    "## this where we save the data? \r\n",
    "server_path = '/net/s29data/export/data_29idd'\r\n",
    "\r\n",
    "path=os.path.join(server_path, '2021_2/NXschool/mda')"
   ],
   "outputs": [],
   "metadata": {}
  },
  {
   "cell_type": "code",
   "execution_count": null,
   "source": [
    "from IEX_29id.devices import Sync_PI_Motor, Sync_Euler_motor\r\n",
    "from IEX_29id.scans import Reset_Scan, Reset_CA_all, Reset_Mono_Limits, \r\n",
    "\r\n",
    "Reset_Scan('Kappa')\r\n",
    "Reset_CA_all()\r\n",
    "Reset_Mono_Limits()\r\n",
    "Sync_SmarAct_Motor()\r\n",
    "Sync_PI_Motor()\r\n",
    "Sync_Euler_Motor()\r\n",
    "Get_All(); mprint()   # print current status of the beamline; \r\n",
    "plot_image('/home/beams/29IDUSER/Documents/User_Folders/Staff/Figures/kappa.png')\r\n"
   ],
   "outputs": [],
   "metadata": {}
  },
  {
   "cell_type": "code",
   "execution_count": null,
   "source": [],
   "outputs": [],
   "metadata": {}
  }
 ],
 "metadata": {
  "orig_nbformat": 4,
  "language_info": {
   "name": "python",
   "version": "3.9.7",
   "mimetype": "text/x-python",
   "codemirror_mode": {
    "name": "ipython",
    "version": 3
   },
   "pygments_lexer": "ipython3",
   "nbconvert_exporter": "python",
   "file_extension": ".py"
  },
  "kernelspec": {
   "name": "python3",
   "display_name": "Python 3.9.7 64-bit ('bluesky': conda)"
  },
  "interpreter": {
   "hash": "9c7d8c453256bfa55877e98d51683f35c91d1880062cd636789f145f1166f409"
  }
 },
 "nbformat": 4,
 "nbformat_minor": 2
}