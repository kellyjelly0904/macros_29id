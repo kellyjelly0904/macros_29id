{
 "cells": [
  {
   "cell_type": "code",
   "execution_count": 28,
   "id": "sufficient-governor",
   "metadata": {},
   "outputs": [],
   "source": [
    "#%run Macros_29id/pynData/IEX_nData.py\n",
    "#%run Macros_29id/mda.py \n",
    "#if you macro imports mda.py then you get the byte problem; to fix you must rerun\n",
    "from Macros_29id.IEX_nData import *"
   ]
  },
  {
   "cell_type": "code",
   "execution_count": 4,
   "id": "inner-copyright",
   "metadata": {
    "collapsed": true,
    "jupyter": {
     "outputs_hidden": true
    }
   },
   "outputs": [
    {
     "name": "stdout",
     "output_type": "stream",
     "text": [
      "path = /net/s29data/export/data_29idd/2021_1/Comin/mda/\n",
      "('/net/s29data/export/data_29idd/2021_1/Comin/mda/Kappa_0001.mda',)\n",
      "('/net/s29data/export/data_29idd/2021_1/Comin/mda/Kappa_0002.mda',)\n",
      "('/net/s29data/export/data_29idd/2021_1/Comin/mda/Kappa_0003.mda',)\n",
      "('/net/s29data/export/data_29idd/2021_1/Comin/mda/Kappa_0004.mda',)\n",
      "('/net/s29data/export/data_29idd/2021_1/Comin/mda/Kappa_0005.mda',)\n",
      "('/net/s29data/export/data_29idd/2021_1/Comin/mda/Kappa_0006.mda',)\n",
      "('/net/s29data/export/data_29idd/2021_1/Comin/mda/Kappa_0007.mda',)\n",
      "('/net/s29data/export/data_29idd/2021_1/Comin/mda/Kappa_0008.mda',)\n",
      "('/net/s29data/export/data_29idd/2021_1/Comin/mda/Kappa_0009.mda',)\n",
      "('/net/s29data/export/data_29idd/2021_1/Comin/mda/Kappa_0010.mda',)\n",
      "('/net/s29data/export/data_29idd/2021_1/Comin/mda/Kappa_0011.mda',)\n",
      "('/net/s29data/export/data_29idd/2021_1/Comin/mda/Kappa_0012.mda',)\n",
      "('/net/s29data/export/data_29idd/2021_1/Comin/mda/Kappa_0013.mda',)\n",
      "Scan Kappa_0013.mda aborted no data taken\n",
      "('/net/s29data/export/data_29idd/2021_1/Comin/mda/Kappa_0014.mda',)\n",
      "('/net/s29data/export/data_29idd/2021_1/Comin/mda/Kappa_0015.mda',)\n",
      "('/net/s29data/export/data_29idd/2021_1/Comin/mda/Kappa_0016.mda',)\n",
      "('/net/s29data/export/data_29idd/2021_1/Comin/mda/Kappa_0017.mda',)\n",
      "('/net/s29data/export/data_29idd/2021_1/Comin/mda/Kappa_0018.mda',)\n",
      "('/net/s29data/export/data_29idd/2021_1/Comin/mda/Kappa_0019.mda',)\n",
      "('/net/s29data/export/data_29idd/2021_1/Comin/mda/Kappa_0020.mda',)\n",
      "('/net/s29data/export/data_29idd/2021_1/Comin/mda/Kappa_0021.mda',)\n",
      "('/net/s29data/export/data_29idd/2021_1/Comin/mda/Kappa_0022.mda',)\n",
      "('/net/s29data/export/data_29idd/2021_1/Comin/mda/Kappa_0023.mda',)\n",
      "('/net/s29data/export/data_29idd/2021_1/Comin/mda/Kappa_0024.mda',)\n",
      "('/net/s29data/export/data_29idd/2021_1/Comin/mda/Kappa_0025.mda',)\n",
      "('/net/s29data/export/data_29idd/2021_1/Comin/mda/Kappa_0026.mda',)\n",
      "('/net/s29data/export/data_29idd/2021_1/Comin/mda/Kappa_0027.mda',)\n",
      "('/net/s29data/export/data_29idd/2021_1/Comin/mda/Kappa_0028.mda',)\n",
      "('/net/s29data/export/data_29idd/2021_1/Comin/mda/Kappa_0029.mda',)\n",
      "('/net/s29data/export/data_29idd/2021_1/Comin/mda/Kappa_0030.mda',)\n",
      "('/net/s29data/export/data_29idd/2021_1/Comin/mda/Kappa_0031.mda',)\n",
      "('/net/s29data/export/data_29idd/2021_1/Comin/mda/Kappa_0032.mda',)\n",
      "('/net/s29data/export/data_29idd/2021_1/Comin/mda/Kappa_0033.mda',)\n",
      "('/net/s29data/export/data_29idd/2021_1/Comin/mda/Kappa_0034.mda',)\n",
      "('/net/s29data/export/data_29idd/2021_1/Comin/mda/Kappa_0035.mda',)\n",
      "('/net/s29data/export/data_29idd/2021_1/Comin/mda/Kappa_0036.mda',)\n",
      "('/net/s29data/export/data_29idd/2021_1/Comin/mda/Kappa_0037.mda',)\n",
      "('/net/s29data/export/data_29idd/2021_1/Comin/mda/Kappa_0038.mda',)\n",
      "('/net/s29data/export/data_29idd/2021_1/Comin/mda/Kappa_0039.mda',)\n",
      "('/net/s29data/export/data_29idd/2021_1/Comin/mda/Kappa_0040.mda',)\n",
      "('/net/s29data/export/data_29idd/2021_1/Comin/mda/Kappa_0041.mda',)\n",
      "('/net/s29data/export/data_29idd/2021_1/Comin/mda/Kappa_0042.mda',)\n",
      "('/net/s29data/export/data_29idd/2021_1/Comin/mda/Kappa_0043.mda',)\n",
      "('/net/s29data/export/data_29idd/2021_1/Comin/mda/Kappa_0044.mda',)\n",
      "('/net/s29data/export/data_29idd/2021_1/Comin/mda/Kappa_0045.mda',)\n",
      "('/net/s29data/export/data_29idd/2021_1/Comin/mda/Kappa_0046.mda',)\n",
      "('/net/s29data/export/data_29idd/2021_1/Comin/mda/Kappa_0047.mda',)\n",
      "('/net/s29data/export/data_29idd/2021_1/Comin/mda/Kappa_0048.mda',)\n",
      "('/net/s29data/export/data_29idd/2021_1/Comin/mda/Kappa_0049.mda',)\n",
      "('/net/s29data/export/data_29idd/2021_1/Comin/mda/Kappa_0050.mda',)\n",
      "('/net/s29data/export/data_29idd/2021_1/Comin/mda/Kappa_0051.mda',)\n",
      "('/net/s29data/export/data_29idd/2021_1/Comin/mda/Kappa_0052.mda',)\n",
      "('/net/s29data/export/data_29idd/2021_1/Comin/mda/Kappa_0053.mda',)\n",
      "('/net/s29data/export/data_29idd/2021_1/Comin/mda/Kappa_0054.mda',)\n",
      "('/net/s29data/export/data_29idd/2021_1/Comin/mda/Kappa_0055.mda',)\n",
      "('/net/s29data/export/data_29idd/2021_1/Comin/mda/Kappa_0056.mda',)\n",
      "('/net/s29data/export/data_29idd/2021_1/Comin/mda/Kappa_0057.mda',)\n",
      "('/net/s29data/export/data_29idd/2021_1/Comin/mda/Kappa_0058.mda',)\n",
      "('/net/s29data/export/data_29idd/2021_1/Comin/mda/Kappa_0059.mda',)\n",
      "('/net/s29data/export/data_29idd/2021_1/Comin/mda/Kappa_0060.mda',)\n",
      "('/net/s29data/export/data_29idd/2021_1/Comin/mda/Kappa_0061.mda',)\n",
      "('/net/s29data/export/data_29idd/2021_1/Comin/mda/Kappa_0062.mda',)\n",
      "('/net/s29data/export/data_29idd/2021_1/Comin/mda/Kappa_0063.mda',)\n",
      "('/net/s29data/export/data_29idd/2021_1/Comin/mda/Kappa_0064.mda',)\n",
      "('/net/s29data/export/data_29idd/2021_1/Comin/mda/Kappa_0065.mda',)\n",
      "('/net/s29data/export/data_29idd/2021_1/Comin/mda/Kappa_0066.mda',)\n",
      "('/net/s29data/export/data_29idd/2021_1/Comin/mda/Kappa_0067.mda',)\n",
      "('/net/s29data/export/data_29idd/2021_1/Comin/mda/Kappa_0068.mda',)\n",
      "('/net/s29data/export/data_29idd/2021_1/Comin/mda/Kappa_0069.mda',)\n",
      "('/net/s29data/export/data_29idd/2021_1/Comin/mda/Kappa_0070.mda',)\n",
      "('/net/s29data/export/data_29idd/2021_1/Comin/mda/Kappa_0071.mda',)\n",
      "('/net/s29data/export/data_29idd/2021_1/Comin/mda/Kappa_0072.mda',)\n",
      "('/net/s29data/export/data_29idd/2021_1/Comin/mda/Kappa_0073.mda',)\n",
      "('/net/s29data/export/data_29idd/2021_1/Comin/mda/Kappa_0074.mda',)\n",
      "('/net/s29data/export/data_29idd/2021_1/Comin/mda/Kappa_0075.mda',)\n",
      "('/net/s29data/export/data_29idd/2021_1/Comin/mda/Kappa_0076.mda',)\n",
      "('/net/s29data/export/data_29idd/2021_1/Comin/mda/Kappa_0077.mda',)\n",
      "('/net/s29data/export/data_29idd/2021_1/Comin/mda/Kappa_0078.mda',)\n",
      "('/net/s29data/export/data_29idd/2021_1/Comin/mda/Kappa_0079.mda',)\n",
      "('/net/s29data/export/data_29idd/2021_1/Comin/mda/Kappa_0080.mda',)\n",
      "('/net/s29data/export/data_29idd/2021_1/Comin/mda/Kappa_0081.mda',)\n",
      "('/net/s29data/export/data_29idd/2021_1/Comin/mda/Kappa_0082.mda',)\n",
      "('/net/s29data/export/data_29idd/2021_1/Comin/mda/Kappa_0083.mda',)\n",
      "('/net/s29data/export/data_29idd/2021_1/Comin/mda/Kappa_0084.mda',)\n",
      "('/net/s29data/export/data_29idd/2021_1/Comin/mda/Kappa_0085.mda',)\n",
      "('/net/s29data/export/data_29idd/2021_1/Comin/mda/Kappa_0086.mda',)\n",
      "('/net/s29data/export/data_29idd/2021_1/Comin/mda/Kappa_0087.mda',)\n",
      "('/net/s29data/export/data_29idd/2021_1/Comin/mda/Kappa_0088.mda',)\n",
      "('/net/s29data/export/data_29idd/2021_1/Comin/mda/Kappa_0089.mda',)\n",
      "('/net/s29data/export/data_29idd/2021_1/Comin/mda/Kappa_0090.mda',)\n",
      "('/net/s29data/export/data_29idd/2021_1/Comin/mda/Kappa_0091.mda',)\n",
      "('/net/s29data/export/data_29idd/2021_1/Comin/mda/Kappa_0092.mda',)\n",
      "('/net/s29data/export/data_29idd/2021_1/Comin/mda/Kappa_0093.mda',)\n",
      "('/net/s29data/export/data_29idd/2021_1/Comin/mda/Kappa_0094.mda',)\n",
      "('/net/s29data/export/data_29idd/2021_1/Comin/mda/Kappa_0095.mda',)\n",
      "('/net/s29data/export/data_29idd/2021_1/Comin/mda/Kappa_0096.mda',)\n",
      "('/net/s29data/export/data_29idd/2021_1/Comin/mda/Kappa_0097.mda',)\n",
      "('/net/s29data/export/data_29idd/2021_1/Comin/mda/Kappa_0098.mda',)\n",
      "('/net/s29data/export/data_29idd/2021_1/Comin/mda/Kappa_0099.mda',)\n",
      "('/net/s29data/export/data_29idd/2021_1/Comin/mda/Kappa_0100.mda',)\n",
      "('/net/s29data/export/data_29idd/2021_1/Comin/mda/Kappa_0101.mda',)\n",
      "('/net/s29data/export/data_29idd/2021_1/Comin/mda/Kappa_0102.mda',)\n",
      "('/net/s29data/export/data_29idd/2021_1/Comin/mda/Kappa_0103.mda',)\n",
      "('/net/s29data/export/data_29idd/2021_1/Comin/mda/Kappa_0104.mda',)\n",
      "('/net/s29data/export/data_29idd/2021_1/Comin/mda/Kappa_0105.mda',)\n",
      "('/net/s29data/export/data_29idd/2021_1/Comin/mda/Kappa_0106.mda',)\n",
      "('/net/s29data/export/data_29idd/2021_1/Comin/mda/Kappa_0107.mda',)\n",
      "('/net/s29data/export/data_29idd/2021_1/Comin/mda/Kappa_0108.mda',)\n",
      "('/net/s29data/export/data_29idd/2021_1/Comin/mda/Kappa_0109.mda',)\n",
      "('/net/s29data/export/data_29idd/2021_1/Comin/mda/Kappa_0110.mda',)\n",
      "('/net/s29data/export/data_29idd/2021_1/Comin/mda/Kappa_0111.mda',)\n",
      "('/net/s29data/export/data_29idd/2021_1/Comin/mda/Kappa_0112.mda',)\n",
      "('/net/s29data/export/data_29idd/2021_1/Comin/mda/Kappa_0113.mda',)\n",
      "('/net/s29data/export/data_29idd/2021_1/Comin/mda/Kappa_0114.mda',)\n",
      "('/net/s29data/export/data_29idd/2021_1/Comin/mda/Kappa_0115.mda',)\n",
      "('/net/s29data/export/data_29idd/2021_1/Comin/mda/Kappa_0116.mda',)\n",
      "('/net/s29data/export/data_29idd/2021_1/Comin/mda/Kappa_0117.mda',)\n",
      "('/net/s29data/export/data_29idd/2021_1/Comin/mda/Kappa_0118.mda',)\n",
      "('/net/s29data/export/data_29idd/2021_1/Comin/mda/Kappa_0119.mda',)\n",
      "('/net/s29data/export/data_29idd/2021_1/Comin/mda/Kappa_0120.mda',)\n",
      "('/net/s29data/export/data_29idd/2021_1/Comin/mda/Kappa_0121.mda',)\n",
      "('/net/s29data/export/data_29idd/2021_1/Comin/mda/Kappa_0122.mda',)\n",
      "('/net/s29data/export/data_29idd/2021_1/Comin/mda/Kappa_0123.mda',)\n",
      "('/net/s29data/export/data_29idd/2021_1/Comin/mda/Kappa_0124.mda',)\n",
      "('/net/s29data/export/data_29idd/2021_1/Comin/mda/Kappa_0125.mda',)\n",
      "('/net/s29data/export/data_29idd/2021_1/Comin/mda/Kappa_0126.mda',)\n",
      "('/net/s29data/export/data_29idd/2021_1/Comin/mda/Kappa_0127.mda',)\n",
      "('/net/s29data/export/data_29idd/2021_1/Comin/mda/Kappa_0128.mda',)\n",
      "('/net/s29data/export/data_29idd/2021_1/Comin/mda/Kappa_0129.mda',)\n",
      "('/net/s29data/export/data_29idd/2021_1/Comin/mda/Kappa_0130.mda',)\n",
      "('/net/s29data/export/data_29idd/2021_1/Comin/mda/Kappa_0131.mda',)\n",
      "('/net/s29data/export/data_29idd/2021_1/Comin/mda/Kappa_0132.mda',)\n",
      "('/net/s29data/export/data_29idd/2021_1/Comin/mda/Kappa_0133.mda',)\n",
      "('/net/s29data/export/data_29idd/2021_1/Comin/mda/Kappa_0134.mda',)\n",
      "('/net/s29data/export/data_29idd/2021_1/Comin/mda/Kappa_0135.mda',)\n",
      "('/net/s29data/export/data_29idd/2021_1/Comin/mda/Kappa_0136.mda',)\n",
      "('/net/s29data/export/data_29idd/2021_1/Comin/mda/Kappa_0137.mda',)\n",
      "('/net/s29data/export/data_29idd/2021_1/Comin/mda/Kappa_0138.mda',)\n",
      "('/net/s29data/export/data_29idd/2021_1/Comin/mda/Kappa_0139.mda',)\n",
      "('/net/s29data/export/data_29idd/2021_1/Comin/mda/Kappa_0140.mda',)\n",
      "('/net/s29data/export/data_29idd/2021_1/Comin/mda/Kappa_0141.mda',)\n",
      "('/net/s29data/export/data_29idd/2021_1/Comin/mda/Kappa_0142.mda',)\n",
      "('/net/s29data/export/data_29idd/2021_1/Comin/mda/Kappa_0143.mda',)\n",
      "('/net/s29data/export/data_29idd/2021_1/Comin/mda/Kappa_0144.mda',)\n",
      "('/net/s29data/export/data_29idd/2021_1/Comin/mda/Kappa_0145.mda',)\n",
      "('/net/s29data/export/data_29idd/2021_1/Comin/mda/Kappa_0146.mda',)\n",
      "('/net/s29data/export/data_29idd/2021_1/Comin/mda/Kappa_0147.mda',)\n",
      "('/net/s29data/export/data_29idd/2021_1/Comin/mda/Kappa_0148.mda',)\n",
      "('/net/s29data/export/data_29idd/2021_1/Comin/mda/Kappa_0149.mda',)\n",
      "('/net/s29data/export/data_29idd/2021_1/Comin/mda/Kappa_0150.mda',)\n",
      "('/net/s29data/export/data_29idd/2021_1/Comin/mda/Kappa_0151.mda',)\n",
      "('/net/s29data/export/data_29idd/2021_1/Comin/mda/Kappa_0152.mda',)\n",
      "('/net/s29data/export/data_29idd/2021_1/Comin/mda/Kappa_0153.mda',)\n",
      "('/net/s29data/export/data_29idd/2021_1/Comin/mda/Kappa_0154.mda',)\n",
      "('/net/s29data/export/data_29idd/2021_1/Comin/mda/Kappa_0155.mda',)\n",
      "('/net/s29data/export/data_29idd/2021_1/Comin/mda/Kappa_0156.mda',)\n",
      "('/net/s29data/export/data_29idd/2021_1/Comin/mda/Kappa_0157.mda',)\n",
      "('/net/s29data/export/data_29idd/2021_1/Comin/mda/Kappa_0158.mda',)\n",
      "('/net/s29data/export/data_29idd/2021_1/Comin/mda/Kappa_0159.mda',)\n",
      "('/net/s29data/export/data_29idd/2021_1/Comin/mda/Kappa_0160.mda',)\n",
      "('/net/s29data/export/data_29idd/2021_1/Comin/mda/Kappa_0161.mda',)\n",
      "('/net/s29data/export/data_29idd/2021_1/Comin/mda/Kappa_0162.mda',)\n",
      "('/net/s29data/export/data_29idd/2021_1/Comin/mda/Kappa_0163.mda',)\n",
      "('/net/s29data/export/data_29idd/2021_1/Comin/mda/Kappa_0164.mda',)\n",
      "('/net/s29data/export/data_29idd/2021_1/Comin/mda/Kappa_0165.mda',)\n",
      "('/net/s29data/export/data_29idd/2021_1/Comin/mda/Kappa_0166.mda',)\n",
      "('/net/s29data/export/data_29idd/2021_1/Comin/mda/Kappa_0167.mda',)\n",
      "('/net/s29data/export/data_29idd/2021_1/Comin/mda/Kappa_0168.mda',)\n",
      "('/net/s29data/export/data_29idd/2021_1/Comin/mda/Kappa_0169.mda',)\n",
      "('/net/s29data/export/data_29idd/2021_1/Comin/mda/Kappa_0170.mda',)\n",
      "('/net/s29data/export/data_29idd/2021_1/Comin/mda/Kappa_0171.mda',)\n",
      "('/net/s29data/export/data_29idd/2021_1/Comin/mda/Kappa_0172.mda',)\n",
      "('/net/s29data/export/data_29idd/2021_1/Comin/mda/Kappa_0173.mda',)\n",
      "('/net/s29data/export/data_29idd/2021_1/Comin/mda/Kappa_0174.mda',)\n",
      "('/net/s29data/export/data_29idd/2021_1/Comin/mda/Kappa_0175.mda',)\n",
      "('/net/s29data/export/data_29idd/2021_1/Comin/mda/Kappa_0176.mda',)\n",
      "('/net/s29data/export/data_29idd/2021_1/Comin/mda/Kappa_0177.mda',)\n",
      "('/net/s29data/export/data_29idd/2021_1/Comin/mda/Kappa_0178.mda',)\n",
      "('/net/s29data/export/data_29idd/2021_1/Comin/mda/Kappa_0179.mda',)\n",
      "('/net/s29data/export/data_29idd/2021_1/Comin/mda/Kappa_0180.mda',)\n",
      "('/net/s29data/export/data_29idd/2021_1/Comin/mda/Kappa_0181.mda',)\n",
      "('/net/s29data/export/data_29idd/2021_1/Comin/mda/Kappa_0182.mda',)\n",
      "('/net/s29data/export/data_29idd/2021_1/Comin/mda/Kappa_0183.mda',)\n",
      "('/net/s29data/export/data_29idd/2021_1/Comin/mda/Kappa_0184.mda',)\n",
      "('/net/s29data/export/data_29idd/2021_1/Comin/mda/Kappa_0185.mda',)\n",
      "('/net/s29data/export/data_29idd/2021_1/Comin/mda/Kappa_0186.mda',)\n",
      "('/net/s29data/export/data_29idd/2021_1/Comin/mda/Kappa_0187.mda',)\n",
      "('/net/s29data/export/data_29idd/2021_1/Comin/mda/Kappa_0188.mda',)\n",
      "('/net/s29data/export/data_29idd/2021_1/Comin/mda/Kappa_0189.mda',)\n",
      "('/net/s29data/export/data_29idd/2021_1/Comin/mda/Kappa_0190.mda',)\n",
      "('/net/s29data/export/data_29idd/2021_1/Comin/mda/Kappa_0191.mda',)\n",
      "('/net/s29data/export/data_29idd/2021_1/Comin/mda/Kappa_0192.mda',)\n",
      "('/net/s29data/export/data_29idd/2021_1/Comin/mda/Kappa_0193.mda',)\n",
      "('/net/s29data/export/data_29idd/2021_1/Comin/mda/Kappa_0194.mda',)\n",
      "('/net/s29data/export/data_29idd/2021_1/Comin/mda/Kappa_0195.mda',)\n",
      "('/net/s29data/export/data_29idd/2021_1/Comin/mda/Kappa_0196.mda',)\n",
      "('/net/s29data/export/data_29idd/2021_1/Comin/mda/Kappa_0197.mda',)\n",
      "('/net/s29data/export/data_29idd/2021_1/Comin/mda/Kappa_0198.mda',)\n",
      "('/net/s29data/export/data_29idd/2021_1/Comin/mda/Kappa_0199.mda',)\n",
      "('/net/s29data/export/data_29idd/2021_1/Comin/mda/Kappa_0200.mda',)\n",
      "('/net/s29data/export/data_29idd/2021_1/Comin/mda/Kappa_0201.mda',)\n",
      "('/net/s29data/export/data_29idd/2021_1/Comin/mda/Kappa_0202.mda',)\n",
      "('/net/s29data/export/data_29idd/2021_1/Comin/mda/Kappa_0203.mda',)\n",
      "('/net/s29data/export/data_29idd/2021_1/Comin/mda/Kappa_0204.mda',)\n",
      "('/net/s29data/export/data_29idd/2021_1/Comin/mda/Kappa_0205.mda',)\n",
      "('/net/s29data/export/data_29idd/2021_1/Comin/mda/Kappa_0206.mda',)\n",
      "('/net/s29data/export/data_29idd/2021_1/Comin/mda/Kappa_0207.mda',)\n",
      "('/net/s29data/export/data_29idd/2021_1/Comin/mda/Kappa_0208.mda',)\n",
      "('/net/s29data/export/data_29idd/2021_1/Comin/mda/Kappa_0209.mda',)\n",
      "('/net/s29data/export/data_29idd/2021_1/Comin/mda/Kappa_0210.mda',)\n",
      "('/net/s29data/export/data_29idd/2021_1/Comin/mda/Kappa_0211.mda',)\n",
      "('/net/s29data/export/data_29idd/2021_1/Comin/mda/Kappa_0212.mda',)\n",
      "('/net/s29data/export/data_29idd/2021_1/Comin/mda/Kappa_0213.mda',)\n",
      "('/net/s29data/export/data_29idd/2021_1/Comin/mda/Kappa_0214.mda',)\n",
      "('/net/s29data/export/data_29idd/2021_1/Comin/mda/Kappa_0215.mda',)\n",
      "('/net/s29data/export/data_29idd/2021_1/Comin/mda/Kappa_0216.mda',)\n",
      "('/net/s29data/export/data_29idd/2021_1/Comin/mda/Kappa_0217.mda',)\n",
      "('/net/s29data/export/data_29idd/2021_1/Comin/mda/Kappa_0218.mda',)\n",
      "('/net/s29data/export/data_29idd/2021_1/Comin/mda/Kappa_0219.mda',)\n",
      "('/net/s29data/export/data_29idd/2021_1/Comin/mda/Kappa_0220.mda',)\n",
      "('/net/s29data/export/data_29idd/2021_1/Comin/mda/Kappa_0221.mda',)\n",
      "('/net/s29data/export/data_29idd/2021_1/Comin/mda/Kappa_0222.mda',)\n",
      "('/net/s29data/export/data_29idd/2021_1/Comin/mda/Kappa_0223.mda',)\n",
      "('/net/s29data/export/data_29idd/2021_1/Comin/mda/Kappa_0224.mda',)\n",
      "('/net/s29data/export/data_29idd/2021_1/Comin/mda/Kappa_0225.mda',)\n",
      "('/net/s29data/export/data_29idd/2021_1/Comin/mda/Kappa_0226.mda',)\n",
      "('/net/s29data/export/data_29idd/2021_1/Comin/mda/Kappa_0227.mda',)\n",
      "('/net/s29data/export/data_29idd/2021_1/Comin/mda/Kappa_0228.mda',)\n",
      "('/net/s29data/export/data_29idd/2021_1/Comin/mda/Kappa_0229.mda',)\n",
      "('/net/s29data/export/data_29idd/2021_1/Comin/mda/Kappa_0230.mda',)\n",
      "('/net/s29data/export/data_29idd/2021_1/Comin/mda/Kappa_0231.mda',)\n",
      "('/net/s29data/export/data_29idd/2021_1/Comin/mda/Kappa_0232.mda',)\n",
      "('/net/s29data/export/data_29idd/2021_1/Comin/mda/Kappa_0233.mda',)\n",
      "('/net/s29data/export/data_29idd/2021_1/Comin/mda/Kappa_0234.mda',)\n",
      "('/net/s29data/export/data_29idd/2021_1/Comin/mda/Kappa_0235.mda',)\n",
      "('/net/s29data/export/data_29idd/2021_1/Comin/mda/Kappa_0236.mda',)\n",
      "('/net/s29data/export/data_29idd/2021_1/Comin/mda/Kappa_0237.mda',)\n",
      "('/net/s29data/export/data_29idd/2021_1/Comin/mda/Kappa_0238.mda',)\n",
      "('/net/s29data/export/data_29idd/2021_1/Comin/mda/Kappa_0239.mda',)\n",
      "('/net/s29data/export/data_29idd/2021_1/Comin/mda/Kappa_0240.mda',)\n",
      "('/net/s29data/export/data_29idd/2021_1/Comin/mda/Kappa_0241.mda',)\n",
      "('/net/s29data/export/data_29idd/2021_1/Comin/mda/Kappa_0242.mda',)\n",
      "('/net/s29data/export/data_29idd/2021_1/Comin/mda/Kappa_0243.mda',)\n",
      "('/net/s29data/export/data_29idd/2021_1/Comin/mda/Kappa_0244.mda',)\n",
      "('/net/s29data/export/data_29idd/2021_1/Comin/mda/Kappa_0245.mda',)\n",
      "('/net/s29data/export/data_29idd/2021_1/Comin/mda/Kappa_0246.mda',)\n",
      "('/net/s29data/export/data_29idd/2021_1/Comin/mda/Kappa_0247.mda',)\n",
      "('/net/s29data/export/data_29idd/2021_1/Comin/mda/Kappa_0248.mda',)\n",
      "('/net/s29data/export/data_29idd/2021_1/Comin/mda/Kappa_0249.mda',)\n",
      "('/net/s29data/export/data_29idd/2021_1/Comin/mda/Kappa_0250.mda',)\n",
      "('/net/s29data/export/data_29idd/2021_1/Comin/mda/Kappa_0251.mda',)\n",
      "('/net/s29data/export/data_29idd/2021_1/Comin/mda/Kappa_0252.mda',)\n",
      "('/net/s29data/export/data_29idd/2021_1/Comin/mda/Kappa_0253.mda',)\n",
      "('/net/s29data/export/data_29idd/2021_1/Comin/mda/Kappa_0254.mda',)\n",
      "('/net/s29data/export/data_29idd/2021_1/Comin/mda/Kappa_0255.mda',)\n",
      "('/net/s29data/export/data_29idd/2021_1/Comin/mda/Kappa_0256.mda',)\n",
      "('/net/s29data/export/data_29idd/2021_1/Comin/mda/Kappa_0257.mda',)\n",
      "('/net/s29data/export/data_29idd/2021_1/Comin/mda/Kappa_0258.mda',)\n",
      "('/net/s29data/export/data_29idd/2021_1/Comin/mda/Kappa_0259.mda',)\n",
      "('/net/s29data/export/data_29idd/2021_1/Comin/mda/Kappa_0260.mda',)\n",
      "('/net/s29data/export/data_29idd/2021_1/Comin/mda/Kappa_0261.mda',)\n",
      "('/net/s29data/export/data_29idd/2021_1/Comin/mda/Kappa_0262.mda',)\n",
      "('/net/s29data/export/data_29idd/2021_1/Comin/mda/Kappa_0263.mda',)\n",
      "('/net/s29data/export/data_29idd/2021_1/Comin/mda/Kappa_0264.mda',)\n",
      "('/net/s29data/export/data_29idd/2021_1/Comin/mda/Kappa_0265.mda',)\n",
      "('/net/s29data/export/data_29idd/2021_1/Comin/mda/Kappa_0266.mda',)\n",
      "('/net/s29data/export/data_29idd/2021_1/Comin/mda/Kappa_0267.mda',)\n",
      "('/net/s29data/export/data_29idd/2021_1/Comin/mda/Kappa_0268.mda',)\n",
      "('/net/s29data/export/data_29idd/2021_1/Comin/mda/Kappa_0269.mda',)\n",
      "('/net/s29data/export/data_29idd/2021_1/Comin/mda/Kappa_0270.mda',)\n",
      "('/net/s29data/export/data_29idd/2021_1/Comin/mda/Kappa_0271.mda',)\n",
      "('/net/s29data/export/data_29idd/2021_1/Comin/mda/Kappa_0272.mda',)\n",
      "('/net/s29data/export/data_29idd/2021_1/Comin/mda/Kappa_0273.mda',)\n",
      "('/net/s29data/export/data_29idd/2021_1/Comin/mda/Kappa_0274.mda',)\n",
      "('/net/s29data/export/data_29idd/2021_1/Comin/mda/Kappa_0275.mda',)\n",
      "('/net/s29data/export/data_29idd/2021_1/Comin/mda/Kappa_0276.mda',)\n",
      "('/net/s29data/export/data_29idd/2021_1/Comin/mda/Kappa_0277.mda',)\n",
      "('/net/s29data/export/data_29idd/2021_1/Comin/mda/Kappa_0278.mda',)\n",
      "('/net/s29data/export/data_29idd/2021_1/Comin/mda/Kappa_0279.mda',)\n",
      "('/net/s29data/export/data_29idd/2021_1/Comin/mda/Kappa_0280.mda',)\n",
      "('/net/s29data/export/data_29idd/2021_1/Comin/mda/Kappa_0281.mda',)\n",
      "('/net/s29data/export/data_29idd/2021_1/Comin/mda/Kappa_0282.mda',)\n",
      "('/net/s29data/export/data_29idd/2021_1/Comin/mda/Kappa_0283.mda',)\n",
      "('/net/s29data/export/data_29idd/2021_1/Comin/mda/Kappa_0284.mda',)\n",
      "('/net/s29data/export/data_29idd/2021_1/Comin/mda/Kappa_0285.mda',)\n",
      "('/net/s29data/export/data_29idd/2021_1/Comin/mda/Kappa_0286.mda',)\n",
      "('/net/s29data/export/data_29idd/2021_1/Comin/mda/Kappa_0287.mda',)\n",
      "('/net/s29data/export/data_29idd/2021_1/Comin/mda/Kappa_0288.mda',)\n",
      "('/net/s29data/export/data_29idd/2021_1/Comin/mda/Kappa_0289.mda',)\n",
      "('/net/s29data/export/data_29idd/2021_1/Comin/mda/Kappa_0290.mda',)\n",
      "('/net/s29data/export/data_29idd/2021_1/Comin/mda/Kappa_0291.mda',)\n",
      "('/net/s29data/export/data_29idd/2021_1/Comin/mda/Kappa_0292.mda',)\n",
      "('/net/s29data/export/data_29idd/2021_1/Comin/mda/Kappa_0293.mda',)\n",
      "('/net/s29data/export/data_29idd/2021_1/Comin/mda/Kappa_0294.mda',)\n",
      "('/net/s29data/export/data_29idd/2021_1/Comin/mda/Kappa_0295.mda',)\n",
      "('/net/s29data/export/data_29idd/2021_1/Comin/mda/Kappa_0296.mda',)\n",
      "('/net/s29data/export/data_29idd/2021_1/Comin/mda/Kappa_0297.mda',)\n",
      "('/net/s29data/export/data_29idd/2021_1/Comin/mda/Kappa_0298.mda',)\n",
      "('/net/s29data/export/data_29idd/2021_1/Comin/mda/Kappa_0299.mda',)\n",
      "('/net/s29data/export/data_29idd/2021_1/Comin/mda/Kappa_0300.mda',)\n",
      "('/net/s29data/export/data_29idd/2021_1/Comin/mda/Kappa_0301.mda',)\n",
      "('/net/s29data/export/data_29idd/2021_1/Comin/mda/Kappa_0302.mda',)\n",
      "('/net/s29data/export/data_29idd/2021_1/Comin/mda/Kappa_0303.mda',)\n",
      "('/net/s29data/export/data_29idd/2021_1/Comin/mda/Kappa_0304.mda',)\n",
      "('/net/s29data/export/data_29idd/2021_1/Comin/mda/Kappa_0305.mda',)\n",
      "('/net/s29data/export/data_29idd/2021_1/Comin/mda/Kappa_0306.mda',)\n",
      "('/net/s29data/export/data_29idd/2021_1/Comin/mda/Kappa_0307.mda',)\n",
      "('/net/s29data/export/data_29idd/2021_1/Comin/mda/Kappa_0308.mda',)\n",
      "('/net/s29data/export/data_29idd/2021_1/Comin/mda/Kappa_0309.mda',)\n",
      "('/net/s29data/export/data_29idd/2021_1/Comin/mda/Kappa_0310.mda',)\n",
      "('/net/s29data/export/data_29idd/2021_1/Comin/mda/Kappa_0311.mda',)\n",
      "('/net/s29data/export/data_29idd/2021_1/Comin/mda/Kappa_0312.mda',)\n",
      "('/net/s29data/export/data_29idd/2021_1/Comin/mda/Kappa_0313.mda',)\n",
      "('/net/s29data/export/data_29idd/2021_1/Comin/mda/Kappa_0314.mda',)\n",
      "('/net/s29data/export/data_29idd/2021_1/Comin/mda/Kappa_0315.mda',)\n",
      "('/net/s29data/export/data_29idd/2021_1/Comin/mda/Kappa_0316.mda',)\n",
      "('/net/s29data/export/data_29idd/2021_1/Comin/mda/Kappa_0317.mda',)\n",
      "('/net/s29data/export/data_29idd/2021_1/Comin/mda/Kappa_0318.mda',)\n",
      "('/net/s29data/export/data_29idd/2021_1/Comin/mda/Kappa_0319.mda',)\n",
      "Loaded mda scanNums: [1, 2, 3, 4, 5, 6, 7, 8, 9, 10, 11, 12, 13, 14, 15, 16, 17, 18, 19, 20, 21, 22, 23, 24, 25, 26, 27, 28, 29, 30, 31, 32, 33, 34, 35, 36, 37, 38, 39, 40, 41, 42, 43, 44, 45, 46, 47, 48, 49, 50, 51, 52, 53, 54, 55, 56, 57, 58, 59, 60, 61, 62, 63, 64, 65, 66, 67, 68, 69, 70, 71, 72, 73, 74, 75, 76, 77, 78, 79, 80, 81, 82, 83, 84, 85, 86, 87, 88, 89, 90, 91, 92, 93, 94, 95, 96, 97, 98, 99, 100, 101, 102, 103, 104, 105, 106, 107, 108, 109, 110, 111, 112, 113, 114, 115, 116, 117, 118, 119, 120, 121, 122, 123, 124, 125, 126, 127, 128, 129, 130, 131, 132, 133, 134, 135, 136, 137, 138, 139, 140, 141, 142, 143, 144, 145, 146, 147, 148, 149, 150, 151, 152, 153, 154, 155, 156, 157, 158, 159, 160, 161, 162, 163, 164, 165, 166, 167, 168, 169, 170, 171, 172, 173, 174, 175, 176, 177, 178, 179, 180, 181, 182, 183, 184, 185, 186, 187, 188, 189, 190, 191, 192, 193, 194, 195, 196, 197, 198, 199, 200, 201, 202, 203, 204, 205, 206, 207, 208, 209, 210, 211, 212, 213, 214, 215, 216, 217, 218, 219, 220, 221, 222, 223, 224, 225, 226, 227, 228, 229, 230, 231, 232, 233, 234, 235, 236, 237, 238, 239, 240, 241, 242, 243, 244, 245, 246, 247, 248, 249, 250, 251, 252, 253, 254, 255, 256, 257, 258, 259, 260, 261, 262, 263, 264, 265, 266, 267, 268, 269, 270, 271, 272, 273, 274, 275, 276, 277, 278, 279, 280, 281, 282, 283, 284, 285, 286, 287, 288, 289, 290, 291, 292, 293, 294, 295, 296, 297, 298, 299, 300, 301, 302, 303, 304, 305, 306, 307, 308, 309, 310, 311, 312, 313, 314, 315, 316, 317, 318, 319]\n"
     ]
    }
   ],
   "source": [
    "data=IEXdata(1,319,path='/net/s29data/export/data_29idd/2021_1/Comin/mda/',prefix='Kappa_')"
   ]
  },
  {
   "cell_type": "code",
   "execution_count": 16,
   "id": "acceptable-clearing",
   "metadata": {},
   "outputs": [
    {
     "data": {
      "text/plain": [
       "<matplotlib.legend.Legend at 0x7f4229c91240>"
      ]
     },
     "execution_count": 16,
     "metadata": {},
     "output_type": "execute_result"
    },
    {
     "data": {
      "image/png": "[encoded data removed]",
      "text/plain": [
       "<Figure size 432x288 with 1 Axes>"
      ]
     },
     "metadata": {
      "needs_background": "light"
     },
     "output_type": "display_data"
    }
   ],
   "source": [
    "detlist=[]\n",
    "for d in range(30,40,1):\n",
    "\tniceplot(data.mda[21].det[d])\n",
    "\tdetlist.append(d)\n",
    "plt.legend(detlist)"
   ]
  },
  {
   "cell_type": "code",
   "execution_count": 26,
   "id": "discrete-carpet",
   "metadata": {},
   "outputs": [
    {
     "data": {
      "image/png": "[encoded data removed]",
      "text/plain": [
       "<Figure size 432x288 with 1 Axes>"
      ]
     },
     "metadata": {
      "needs_background": "light"
     },
     "output_type": "display_data"
    }
   ],
   "source": [
    "#data.mda[38].detAll()\n",
    "niceplot(data.mda[38].det[33])"
   ]
  },
  {
   "cell_type": "code",
   "execution_count": null,
   "id": "clinical-football",
   "metadata": {},
   "outputs": [],
   "source": []
  },
  {
   "cell_type": "code",
   "execution_count": 38,
   "id": "professional-playback",
   "metadata": {
    "collapsed": true,
    "jupyter": {
     "outputs_hidden": true
    }
   },
   "outputs": [
    {
     "name": "stdout",
     "output_type": "stream",
     "text": [
      "path = /net/s29data/export/data_29idd/2021_1/Frano/mda/\n",
      "('/net/s29data/export/data_29idd/2021_1/Frano/mda/Kappa_1790.mda',)\n",
      "('/net/s29data/export/data_29idd/2021_1/Frano/mda/Kappa_1791.mda',)\n",
      "('/net/s29data/export/data_29idd/2021_1/Frano/mda/Kappa_1792.mda',)\n",
      "('/net/s29data/export/data_29idd/2021_1/Frano/mda/Kappa_1793.mda',)\n",
      "('/net/s29data/export/data_29idd/2021_1/Frano/mda/Kappa_1794.mda',)\n",
      "('/net/s29data/export/data_29idd/2021_1/Frano/mda/Kappa_1795.mda',)\n",
      "('/net/s29data/export/data_29idd/2021_1/Frano/mda/Kappa_1796.mda',)\n",
      "('/net/s29data/export/data_29idd/2021_1/Frano/mda/Kappa_1797.mda',)\n",
      "('/net/s29data/export/data_29idd/2021_1/Frano/mda/Kappa_1798.mda',)\n",
      "('/net/s29data/export/data_29idd/2021_1/Frano/mda/Kappa_1799.mda',)\n",
      "('/net/s29data/export/data_29idd/2021_1/Frano/mda/Kappa_1800.mda',)\n",
      "Loaded mda scanNums: [1790, 1791, 1792, 1793, 1794, 1795, 1796, 1797, 1798, 1799, 1800]\n"
     ]
    }
   ],
   "source": [
    "data=IEXdata(1790,1800,path='/net/s29data/export/data_29idd/2021_1/Frano/mda/',prefix='Kappa_')"
   ]
  },
  {
   "cell_type": "code",
   "execution_count": 39,
   "id": "constant-equipment",
   "metadata": {},
   "outputs": [
    {
     "name": "stdout",
     "output_type": "stream",
     "text": [
      "1: ('S:SRcurrentAI.VAL', 'SR Current', 'mA')\n",
      "2: ('EPS:29:ID:SS1:POSITION', 'SS1 Position Text', '')\n",
      "3: ('29idmono:ENERGY_MON', 'Calculated Photon Energy', 'eV')\n",
      "4: ('ID29:EnergySet.VAL', 'Set ID energy', 'keV')\n",
      "5: ('ID29:Energy.VAL', 'ID energy readback', 'keV')\n",
      "6: ('29idb:ca1:read', '', '')\n",
      "7: ('29idb:ca2:read', '', '')\n",
      "8: ('29idb:ca3:read', '', '')\n",
      "9: ('29idb:ca4:read', '', '')\n",
      "10: ('29idb:ca5:read', '', '')\n",
      "11: ('29idb:ca10:read', '', '')\n",
      "12: ('29idb:ca12:read', '', '')\n",
      "13: ('29idb:ca13:read', '', '')\n",
      "14: ('29idb:ca14:read', '', '')\n",
      "19: ('29idd:ca2:read', '', '')\n",
      "20: ('29idd:ca3:read', '', '')\n",
      "21: ('29idd:ca4:read', '', '')\n",
      "22: ('29idd:ca5:read', '', '')\n",
      "23: ('29idd:LS331:TC1:SampleA', 'Convt str fror SplA query', '')\n",
      "24: ('29idd:LS331:TC1:SampleB', 'Convrt str from SplB query', '')\n",
      "25: ('29id_ps6:Stats1:CentroidX_RBV', '', '')\n",
      "26: ('29id_ps6:Stats1:SigmaX_RBV', '', '')\n",
      "27: ('29id_ps6:Stats1:CentroidTotal_RBV', '', '')\n",
      "30: ('29iddMPA:det1:TotalRate_RBV', '', '')\n",
      "31: ('29idMZ0:scaler1.S14', '', '')\n",
      "32: ('29idMZ0:scaler1.S2', '', '')\n",
      "33: ('29idMZ0:scaler1.S3', '', '')\n",
      "34: ('29idMZ0:scaler1.S4', '', '')\n",
      "35: ('29idMZ0:scaler1.S5', '', '')\n",
      "36: ('29idMZ0:scaler1_calc1.B', '', '')\n",
      "37: ('29idMZ0:scaler1_calc1.C', '', '')\n",
      "38: ('29idMZ0:scaler1_calc1.D', '', '')\n",
      "39: ('29idMZ0:scaler1_calc1.E', '', '')\n",
      "41: ('29iddMPA:Stats1:Total_RBV', '', '')\n",
      "42: ('29iddMPA:Stats2:Total_RBV', '', '')\n",
      "43: ('29iddMPA:Stats3:Total_RBV', '', '')\n",
      "44: ('29iddMPA:Stats4:Total_RBV', '', '')\n",
      "45: ('29iddMPA:Stats5:Total_RBV', '', '')\n",
      "46: ('29idKappa:userArrayCalc1.L', '<H>', '')\n",
      "47: ('29idKappa:userArrayCalc2.L', '<K>', '')\n",
      "48: ('29idKappa:userArrayCalc3.L', '<L>', '')\n",
      "51: ('29idKappa:m8.RBV', 'kth', 'degrees')\n",
      "52: ('29idKappa:m7.RBV', 'kap', 'degrees')\n",
      "53: ('29idKappa:m1.RBV', 'kphi', 'degrees')\n",
      "54: ('29idKappa:m9.RBV', 'tth', 'degrees')\n",
      "55: ('29idKappa:Euler_ThetaRBV', 'th', '')\n",
      "56: ('29idKappa:Euler_ChiRBV', 'chi', '')\n",
      "57: ('29idKappa:Euler_PhiRBV', 'phi', '')\n"
     ]
    }
   ],
   "source": [
    "data.mda[1795].detAll()"
   ]
  },
  {
   "cell_type": "code",
   "execution_count": 50,
   "id": "relevant-firmware",
   "metadata": {},
   "outputs": [
    {
     "data": {
      "image/png": "[encoded data removed]",
      "text/plain": [
       "<Figure size 432x288 with 1 Axes>"
      ]
     },
     "metadata": {
      "needs_background": "light"
     },
     "output_type": "display_data"
    }
   ],
   "source": [
    "niceplot(data.mda[1795].det[39])"
   ]
  },
  {
   "cell_type": "code",
   "execution_count": 60,
   "id": "peaceful-clothing",
   "metadata": {},
   "outputs": [
    {
     "data": {
      "text/plain": [
       "<matplotlib.legend.Legend at 0x7f4229983198>"
      ]
     },
     "execution_count": 60,
     "metadata": {},
     "output_type": "execute_result"
    },
    {
     "data": {
      "image/png": "[encoded data removed]",
      "text/plain": [
       "<Figure size 432x288 with 1 Axes>"
      ]
     },
     "metadata": {
      "needs_background": "light"
     },
     "output_type": "display_data"
    }
   ],
   "source": [
    "txt=[]\n",
    "for scanNum in range(1793,1796):\n",
    "\ttxt.append(str(scanNum))\n",
    "\ty=data.mda[scanNum].det[39]\n",
    "\tx=data.mda[scanNum].det[46]\n",
    "\tplt.plot(x.data,y.data)\n",
    "\tplt.xlabel(x.pv[1])\n",
    "\tplt.ylabel(y.pv)\n",
    "plt.legend(txt)"
   ]
  },
  {
   "cell_type": "code",
   "execution_count": null,
   "id": "verbal-still",
   "metadata": {},
   "outputs": [],
   "source": []
  },
  {
   "cell_type": "code",
   "execution_count": 115,
   "id": "cloudy-begin",
   "metadata": {},
   "outputs": [
    {
     "data": {
      "text/plain": [
       "0.7095"
      ]
     },
     "execution_count": 115,
     "metadata": {},
     "output_type": "execute_result"
    }
   ],
   "source": [
    "scanNum=1793\n",
    "\n",
    "data.mda[scanNum].header.all['29idb:m11.RBV'][2][0]"
   ]
  },
  {
   "cell_type": "code",
   "execution_count": 73,
   "id": "suspected-discount",
   "metadata": {},
   "outputs": [
    {
     "data": {
      "text/plain": [
       "'29idKappa:Euler_Chi'"
      ]
     },
     "execution_count": 73,
     "metadata": {},
     "output_type": "execute_result"
    }
   ],
   "source": [
    "data.mda[scanNum].posx[0].pv[0]"
   ]
  },
  {
   "cell_type": "code",
   "execution_count": 75,
   "id": "legal-cincinnati",
   "metadata": {},
   "outputs": [
    {
     "data": {
      "text/plain": [
       "{0: <Macros_29id.pynData.pynData.nData at 0x7f423093ada0>}"
      ]
     },
     "execution_count": 75,
     "metadata": {},
     "output_type": "execute_result"
    }
   ],
   "source": [
    "data.mda[scanNum].posx"
   ]
  },
  {
   "cell_type": "code",
   "execution_count": 1,
   "id": "passing-catalog",
   "metadata": {},
   "outputs": [
    {
     "name": "stdout",
     "output_type": "stream",
     "text": [
      "path = /net/s29data/export/data_29idd/2021_1/Frano/mda/\n",
      "Loaded mda scanNums: [1790, 1791, 1792, 1793, 1794, 1795, 1796, 1797, 1798, 1799, 1800]\n"
     ]
    }
   ],
   "source": [
    "data=IEXdata(1790,1800,path='/net/s29data/export/data_29idd/2021_1/Frano/mda/',prefix='Kappa_')"
   ]
  },
  {
   "cell_type": "code",
   "execution_count": 27,
   "id": "packed-fusion",
   "metadata": {},
   "outputs": [
    {
     "name": "stdout",
     "output_type": "stream",
     "text": [
      "Loaded mda scanNums: [223]\n"
     ]
    }
   ],
   "source": [
    "data.update(223,path='/net/s29data/export/data_29idd/2021_1/Frano/mda/',prefix='Kappa_')"
   ]
  },
  {
   "cell_type": "code",
   "execution_count": 2,
   "id": "modern-webcam",
   "metadata": {},
   "outputs": [
    {
     "data": {
      "text/plain": [
       "'V'"
      ]
     },
     "execution_count": 2,
     "metadata": {},
     "output_type": "execute_result"
    }
   ],
   "source": [
    "data.mda[1790].header.val('polarization')"
   ]
  },
  {
   "cell_type": "code",
   "execution_count": 3,
   "id": "advance-relations",
   "metadata": {},
   "outputs": [
    {
     "data": {
      "text/plain": [
       "'V'"
      ]
     },
     "execution_count": 3,
     "metadata": {},
     "output_type": "execute_result"
    }
   ],
   "source": [
    "data.mda[1790].header.pv_val('ID29:ActualMode')"
   ]
  },
  {
   "cell_type": "code",
   "execution_count": 11,
   "id": "absent-washington",
   "metadata": {},
   "outputs": [
    {
     "data": {
      "text/plain": [
       "{'ID29:EnergyRBV.VAL': ('ID readback in eV', 'eV', [925.3827929496765]),\n",
       " 'ID29:Energy.VAL': ('ID readback', 'keV', [0.9253827929496765]),\n",
       " 'ID29:EnergySet.VAL': ('ID setpoint', 'keV', [0.951]),\n",
       " '29idmono:ENERGY_SP': ('Desired Photon Energy', 'eV', [931.478]),\n",
       " '29idmono:ENERGY_MON': ('Calculated Photon Energy', 'eV', [931.4874531])}"
      ]
     },
     "execution_count": 11,
     "metadata": {},
     "output_type": "execute_result"
    }
   ],
   "source": [
    "data.mda[1790].det[]"
   ]
  },
  {
   "cell_type": "code",
   "execution_count": 12,
   "id": "crazy-discretion",
   "metadata": {},
   "outputs": [
    {
     "data": {
      "text/plain": [
       "('29idMZ0:scaler1.S4', '', '')"
      ]
     },
     "execution_count": 12,
     "metadata": {},
     "output_type": "execute_result"
    }
   ],
   "source": [
    "data.mda[1790].det[34].pv"
   ]
  },
  {
   "cell_type": "code",
   "execution_count": 5,
   "id": "polish-consequence",
   "metadata": {},
   "outputs": [
    {
     "name": "stdout",
     "output_type": "stream",
     "text": [
      "scanNum: 1790   rank:1   posx['29idKappa:m9.VAL', '29idKappa:Euler_Theta', '29idKappa:Euler_Chi', '29idKappa:Euler_Phi']\n"
     ]
    }
   ],
   "source": [
    "data.mda[1790].info()"
   ]
  },
  {
   "cell_type": "code",
   "execution_count": 4,
   "id": "removable-swiss",
   "metadata": {},
   "outputs": [
    {
     "ename": "ModuleNotFoundError",
     "evalue": "No module named '__main__.pynData'; '__main__' is not a package",
     "output_type": "error",
     "traceback": [
      "\u001b[0;31m---------------------------------------------------------------------------\u001b[0m",
      "\u001b[0;31mModuleNotFoundError\u001b[0m                       Traceback (most recent call last)",
      "\u001b[0;32m/home/beams22/29IDUSER/Documents/User_Macros/Macros_29id/pynData/nmda.py\u001b[0m in \u001b[0;36m<module>\u001b[0;34m\u001b[0m\n\u001b[1;32m      9\u001b[0m \u001b[0;34m\u001b[0m\u001b[0m\n\u001b[1;32m     10\u001b[0m \u001b[0;34m\u001b[0m\u001b[0m\n\u001b[0;32m---> 11\u001b[0;31m \u001b[0;32mfrom\u001b[0m \u001b[0;34m.\u001b[0m\u001b[0mpynData\u001b[0m \u001b[0;32mimport\u001b[0m \u001b[0mnData\u001b[0m\u001b[0;34m\u001b[0m\u001b[0;34m\u001b[0m\u001b[0m\n\u001b[0m\u001b[1;32m     12\u001b[0m \u001b[0;32mfrom\u001b[0m \u001b[0;34m.\u001b[0m\u001b[0;34m.\u001b[0m\u001b[0mmda\u001b[0m\u001b[0;34m.\u001b[0m\u001b[0mmda\u001b[0m \u001b[0;32mimport\u001b[0m \u001b[0mreadMDA\u001b[0m\u001b[0;34m\u001b[0m\u001b[0;34m\u001b[0m\u001b[0m\n\u001b[1;32m     13\u001b[0m \u001b[0;34m\u001b[0m\u001b[0m\n",
      "\u001b[0;31mModuleNotFoundError\u001b[0m: No module named '__main__.pynData'; '__main__' is not a package"
     ]
    }
   ],
   "source": [
    "%run Macros_29id/pynData/nmda.py"
   ]
  },
  {
   "cell_type": "code",
   "execution_count": 15,
   "id": "phantom-spain",
   "metadata": {},
   "outputs": [
    {
     "data": {
      "image/png": "[encoded data removed]",
      "text/plain": [
       "<Figure size 432x288 with 1 Axes>"
      ]
     },
     "metadata": {
      "needs_background": "light"
     },
     "output_type": "display_data"
    }
   ],
   "source": [
    "niceplot(data.mda[1790].det[36])"
   ]
  },
  {
   "cell_type": "code",
   "execution_count": 25,
   "id": "honey-chain",
   "metadata": {},
   "outputs": [
    {
     "name": "stdout",
     "output_type": "stream",
     "text": [
      "mda scans loaded:\n",
      "\t[1790, 1791, 1792, 1793, 1794, 1795, 1796, 1797, 1798, 1799, 1800, 221, 222]\n",
      "EA scans loaded:\n",
      "\t[]\n",
      "dtype: mda\n",
      "path: /net/s29data/export/data_29idd/2021_1/Frano/mda/\n",
      "prefix: Kappa_\n",
      "nzeros: 4\n",
      "suffix: \n",
      "ext: mda\n"
     ]
    }
   ],
   "source": [
    "data.info()"
   ]
  },
  {
   "cell_type": "code",
   "execution_count": 49,
   "id": "young-honey",
   "metadata": {},
   "outputs": [
    {
     "data": {
      "text/plain": [
       "<matplotlib.legend.Legend at 0x7f36d1fd7550>"
      ]
     },
     "execution_count": 49,
     "metadata": {},
     "output_type": "execute_result"
    },
    {
     "data": {
      "image/png": "[encoded data removed]",
      "text/plain": [
       "<Figure size 432x288 with 1 Axes>"
      ]
     },
     "metadata": {
      "needs_background": "light"
     },
     "output_type": "display_data"
    }
   ],
   "source": [
    "#plt.plot(x,y)\n",
    "plt.plot(data.mda[221].det[36].scale['x'],data.mda[221].det[36].data,label=\"H\")\n",
    "plt.plot(data.mda[223].det[36].scale['x'],data.mda[223].det[36].data*1.125+0.125,label=\"V\")\n",
    "plt.legend()"
   ]
  },
  {
   "cell_type": "code",
   "execution_count": 3,
   "id": "thermal-bobby",
   "metadata": {},
   "outputs": [
    {
     "name": "stdout",
     "output_type": "stream",
     "text": [
      "path = /net/s29data/export/data_29idc/2021_1/ZXShen/netCDF/\n",
      "Loaded EAnc scanNums: []\n"
     ]
    }
   ],
   "source": [
    "\n",
    "path=\"/net/s29data/export/data_29idc/2021_1/ZXShen/netCDF/\"\n",
    "data=IEXdata(7,72,dtype=\"EAnc\",path=path,prefix=\"EA\")"
   ]
  },
  {
   "cell_type": "code",
   "execution_count": 5,
   "id": "fe690c5e-5078-4598-84ae-0a04c8d55b8e",
   "metadata": {},
   "outputs": [],
   "source": [
    "for scanNum in range(7,10):\n",
    "\tdata.EA[scanNum]=nEA(path+\"EA_000\"+str(scanNum)+\".nc\",dtype=\"nc\",crop=False,rawData=True)"
   ]
  },
  {
   "cell_type": "code",
   "execution_count": 7,
   "id": "252b602a-d7a7-4e07-8f35-736f056d2d93",
   "metadata": {},
   "outputs": [],
   "source": [
    "for scanNum in range(10,73):\n",
    "\tdata.EA[scanNum]=nEA(path+\"EA_00\"+str(scanNum)+\".nc\",dtype=\"nc\",crop=False,rawData=True)"
   ]
  },
  {
   "cell_type": "code",
   "execution_count": 32,
   "id": "9e523f8b-d327-41f3-8e5a-932766c3184a",
   "metadata": {},
   "outputs": [],
   "source": [
    "FM=data.EA[18].data\n",
    "#FM=mkStack(data,7,72,countby=1,setscale=(8,-.25,'th'))\n",
    "#FM.reshape(1,1000,2111)"
   ]
  },
  {
   "cell_type": "code",
   "execution_count": 33,
   "id": "9583ac66-39c8-4490-bb37-f1007c70f63d",
   "metadata": {},
   "outputs": [
    {
     "data": {
      "text/plain": [
       "(1000, 101)"
      ]
     },
     "execution_count": 33,
     "metadata": {},
     "output_type": "execute_result"
    }
   ],
   "source": [
    "FM.shape"
   ]
  },
  {
   "cell_type": "code",
   "execution_count": null,
   "id": "d003d280-adab-414b-b4ce-6d52919f3a2c",
   "metadata": {},
   "outputs": [],
   "source": [
    "from PyQt5 import QtWidgets, QtCore\n",
    "from pyimagetool.ImageTool import ImageTool\n",
    "from pyimagetool.DataMatrix import RegularDataArray"
   ]
  }
 ],
 "metadata": {
  "kernelspec": {
   "display_name": "Python 3",
   "language": "python",
   "name": "python3"
  },
  "language_info": {
   "codemirror_mode": {
    "name": "ipython",
    "version": 3
   },
   "file_extension": ".py",
   "mimetype": "text/x-python",
   "name": "python",
   "nbconvert_exporter": "python",
   "pygments_lexer": "ipython3",
   "version": "3.8.10"
  }
 },
 "nbformat": 4,
 "nbformat_minor": 5
}
