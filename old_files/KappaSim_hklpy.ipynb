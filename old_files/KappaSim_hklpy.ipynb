{
 "cells": [
  {
   "cell_type": "code",
   "execution_count": 1,
   "id": "fundamental-apparatus",
   "metadata": {},
   "outputs": [],
   "source": [
    "import gi"
   ]
  },
  {
   "cell_type": "code",
   "execution_count": 2,
   "id": "emotional-translator",
   "metadata": {},
   "outputs": [],
   "source": [
    "gi.require_version(\"Hkl\", \"5.0\")"
   ]
  },
  {
   "cell_type": "code",
   "execution_count": 3,
   "id": "southwest-conditions",
   "metadata": {},
   "outputs": [],
   "source": [
    "from hkl.geometries import SimulatedK4CV"
   ]
  },
  {
   "cell_type": "code",
   "execution_count": 4,
   "id": "upset-banana",
   "metadata": {},
   "outputs": [],
   "source": [
    "kappa=SimulatedK4CV(\"\",name=\"kappa\")"
   ]
  },
  {
   "cell_type": "code",
   "execution_count": 5,
   "id": "actual-separate",
   "metadata": {},
   "outputs": [
    {
     "name": "stdout",
     "output_type": "stream",
     "text": [
      "===================== ====================================================================\n",
      "term                  value                                                               \n",
      "===================== ====================================================================\n",
      "diffractometer        kappa                                                               \n",
      "geometry              K4CV                                                                \n",
      "class                 SimulatedK4CV                                                       \n",
      "energy (keV)          8.05092                                                             \n",
      "wavelength (angstrom) 1.54000                                                             \n",
      "calc engine           hkl                                                                 \n",
      "mode                  bissector                                                           \n",
      "positions             ====== =======                                                      \n",
      "                      name   value                                                        \n",
      "                      ====== =======                                                      \n",
      "                      komega 0.00000                                                      \n",
      "                      kappa  0.00000                                                      \n",
      "                      kphi   0.00000                                                      \n",
      "                      tth    0.00000                                                      \n",
      "                      ====== =======                                                      \n",
      "constraints           ====== ========= ========== ===== ====                              \n",
      "                      axis   low_limit high_limit value fit                               \n",
      "                      ====== ========= ========== ===== ====                              \n",
      "                      komega -180.0    180.0      0.0   True                              \n",
      "                      kappa  -180.0    180.0      0.0   True                              \n",
      "                      kphi   -180.0    180.0      0.0   True                              \n",
      "                      tth    -180.0    180.0      0.0   True                              \n",
      "                      ====== ========= ========== ===== ====                              \n",
      "sample: main          ================ ===================================================\n",
      "                      term             value                                              \n",
      "                      ================ ===================================================\n",
      "                      unit cell edges  a=1.54, b=1.54, c=1.54                             \n",
      "                      unit cell angles alpha=90.0, beta=90.0, gamma=90.0                  \n",
      "                      [U]              [[1. 0. 0.]                                        \n",
      "                                        [0. 1. 0.]                                        \n",
      "                                        [0. 0. 1.]]                                       \n",
      "                      [UB]             [[ 4.07999046e+00 -2.49827363e-16 -2.49827363e-16] \n",
      "                                        [ 0.00000000e+00  4.07999046e+00 -2.49827363e-16] \n",
      "                                        [ 0.00000000e+00  0.00000000e+00  4.07999046e+00]]\n",
      "                      ================ ===================================================\n",
      "===================== ====================================================================\n",
      "\n"
     ]
    },
    {
     "data": {
      "text/plain": [
       "<pyRestTable.rest_table.Table at 0x7f23237a9910>"
      ]
     },
     "execution_count": 5,
     "metadata": {},
     "output_type": "execute_result"
    }
   ],
   "source": [
    "kappa.pa()"
   ]
  },
  {
   "cell_type": "code",
   "execution_count": null,
   "id": "faced-design",
   "metadata": {},
   "outputs": [],
   "source": []
  },
  {
   "cell_type": "code",
   "execution_count": 7,
   "id": "three-panic",
   "metadata": {},
   "outputs": [
    {
     "data": {
      "text/plain": [
       "array([[-1.41342870e-05, -1.15690713e+00,  7.08409963e-17],\n",
       "       [ 0.00000000e+00,  0.00000000e+00,  1.15690713e+00],\n",
       "       [-1.15690713e+00,  1.41342870e-05,  7.08392653e-17]])"
      ]
     },
     "execution_count": 7,
     "metadata": {},
     "output_type": "execute_result"
    }
   ],
   "source": [
    "\n",
    "kappa.energy.put(12.398 / 1.54)\n",
    "a0 = 5.4310196\n",
    "kappa.calc.new_sample(\"silicon\", lattice=(a0, a0, a0, 90, 90, 90))\n",
    "r1=kappa.calc.sample.add_reflection(4, 0, 0, (-145.451, 0, 0, 69.0966))\n",
    "r2=kappa.calc.sample.add_reflection(0, 4, 0, (-145.451, 0, 90, 69.0966))\n",
    "kappa.calc.sample.compute_UB(r1,r2)"
   ]
  },
  {
   "cell_type": "code",
   "execution_count": 8,
   "id": "sexual-palestine",
   "metadata": {},
   "outputs": [
    {
     "name": "stdout",
     "output_type": "stream",
     "text": [
      "Object `cahkl` not found.\n"
     ]
    }
   ],
   "source": [
    "cahkl??"
   ]
  },
  {
   "cell_type": "code",
   "execution_count": 14,
   "id": "specified-operation",
   "metadata": {},
   "outputs": [
    {
     "name": "stdout",
     "output_type": "stream",
     "text": [
      "========= ======== ========== ========== ========= =========\n",
      "(hkl)     solution komega     kappa      kphi      tth      \n",
      "========= ======== ========== ========== ========= =========\n",
      "(0, 0, 1) 0        -24.8038   -134.75593 0.0       16.30206 \n",
      "(0, 0, 1) 1        41.10587   134.75593  0.0       16.30206 \n",
      "(0, 0, 1) 2        -24.8038   -134.75593 -65.90967 16.30206 \n",
      "(0, 0, 1) 3        41.10587   134.75593  65.90967  16.30206 \n",
      "(0, 0, 1) 4        138.89413  -134.75593 0.0       -16.30206\n",
      "(0, 0, 1) 5        -155.1962  134.75593  0.0       -16.30206\n",
      "(0, 0, 1) 6        138.89413  -134.75593 -65.90967 -16.30206\n",
      "(0, 0, 1) 7        -155.1962  134.75593  65.90967  -16.30206\n",
      "(0, 0, 2) 0        -16.48169  -134.75593 0.0       32.94629 \n",
      "(0, 0, 2) 1        49.42798   134.75593  0.0       32.94629 \n",
      "(0, 0, 2) 2        -16.48169  -134.75593 -65.90967 32.94629 \n",
      "(0, 0, 2) 3        49.42798   134.75593  65.90967  32.94629 \n",
      "(0, 0, 2) 4        130.57202  -134.75593 0.0       -32.94629\n",
      "(0, 0, 2) 5        -163.51831 134.75593  65.90967  -32.94629\n",
      "========= ======== ========== ========== ========= =========\n",
      "\n"
     ]
    }
   ],
   "source": [
    "reflections=((0,0,1),(0,0,2))\n",
    "print(kappa.forward_solutions_table(reflections, full=True))"
   ]
  },
  {
   "cell_type": "code",
   "execution_count": 15,
   "id": "going-microphone",
   "metadata": {},
   "outputs": [
    {
     "data": {
      "text/plain": [
       "['bissector',\n",
       " 'constant_omega',\n",
       " 'constant_chi',\n",
       " 'constant_phi',\n",
       " 'double_diffraction',\n",
       " 'psi_constant']"
      ]
     },
     "execution_count": 15,
     "metadata": {},
     "output_type": "execute_result"
    }
   ],
   "source": [
    "kappa.calc.engine.modes"
   ]
  },
  {
   "cell_type": "code",
   "execution_count": 16,
   "id": "functional-jefferson",
   "metadata": {},
   "outputs": [
    {
     "data": {
      "text/plain": [
       "'bissector'"
      ]
     },
     "execution_count": 16,
     "metadata": {},
     "output_type": "execute_result"
    }
   ],
   "source": [
    "kappa.calc.engine.mode"
   ]
  },
  {
   "cell_type": "code",
   "execution_count": 17,
   "id": "located-disposal",
   "metadata": {},
   "outputs": [],
   "source": [
    "kappa.calc.engine.mode='constant_phi'"
   ]
  },
  {
   "cell_type": "code",
   "execution_count": 18,
   "id": "seeing-basement",
   "metadata": {},
   "outputs": [
    {
     "data": {
      "text/plain": [
       "\u001b[0;31mType:\u001b[0m        property\n",
       "\u001b[0;31mString form:\u001b[0m <property object at 0x7f23463e76b0>\n",
       "\u001b[0;31mDocstring:\u001b[0m   HKL calculation mode (see also `HklCalc.modes`)\n"
      ]
     },
     "metadata": {},
     "output_type": "display_data"
    }
   ],
   "source": [
    "kappa.calc.engine.mode?"
   ]
  },
  {
   "cell_type": "code",
   "execution_count": 19,
   "id": "composite-enlargement",
   "metadata": {},
   "outputs": [
    {
     "data": {
      "text/plain": [
       "'constant_phi'"
      ]
     },
     "execution_count": 19,
     "metadata": {},
     "output_type": "execute_result"
    }
   ],
   "source": [
    "kappa.calc.engine.mode"
   ]
  },
  {
   "cell_type": "code",
   "execution_count": 20,
   "id": "fourth-switzerland",
   "metadata": {},
   "outputs": [
    {
     "name": "stdout",
     "output_type": "stream",
     "text": [
      "===================== ============ =========\n",
      "term                  value        axis_type\n",
      "===================== ============ =========\n",
      "diffractometer        kappa                 \n",
      "sample name           silicon               \n",
      "energy (keV)          8.05065               \n",
      "wavelength (angstrom) 1.54005               \n",
      "calc engine           hkl                   \n",
      "mode                  constant_phi          \n",
      "h                     0.0          pseudo   \n",
      "k                     0.0          pseudo   \n",
      "l                     0.0          pseudo   \n",
      "komega                0            real     \n",
      "kappa                 0            real     \n",
      "kphi                  0            real     \n",
      "tth                   0            real     \n",
      "===================== ============ =========\n",
      "\n"
     ]
    },
    {
     "data": {
      "text/plain": [
       "<pyRestTable.rest_table.Table at 0x7f232260f1d0>"
      ]
     },
     "execution_count": 20,
     "metadata": {},
     "output_type": "execute_result"
    }
   ],
   "source": [
    "kappa.wh()"
   ]
  },
  {
   "cell_type": "code",
   "execution_count": 22,
   "id": "photographic-field",
   "metadata": {},
   "outputs": [],
   "source": [
    "from hkl.user import *"
   ]
  },
  {
   "cell_type": "code",
   "execution_count": 23,
   "id": "academic-kingdom",
   "metadata": {},
   "outputs": [],
   "source": [
    "select_diffractometer(kappa)"
   ]
  },
  {
   "cell_type": "code",
   "execution_count": 24,
   "id": "comprehensive-confidence",
   "metadata": {},
   "outputs": [
    {
     "name": "stdout",
     "output_type": "stream",
     "text": [
      "===================== ============ =========\n",
      "term                  value        axis_type\n",
      "===================== ============ =========\n",
      "diffractometer        kappa                 \n",
      "sample name           silicon               \n",
      "energy (keV)          8.05065               \n",
      "wavelength (angstrom) 1.54005               \n",
      "calc engine           hkl                   \n",
      "mode                  constant_phi          \n",
      "h                     0.0          pseudo   \n",
      "k                     0.0          pseudo   \n",
      "l                     0.0          pseudo   \n",
      "komega                0            real     \n",
      "kappa                 0            real     \n",
      "kphi                  0            real     \n",
      "tth                   0            real     \n",
      "===================== ============ =========\n",
      "\n"
     ]
    }
   ],
   "source": [
    "wh()"
   ]
  },
  {
   "cell_type": "code",
   "execution_count": 25,
   "id": "caroline-rough",
   "metadata": {},
   "outputs": [
    {
     "name": "stdout",
     "output_type": "stream",
     "text": [
      "===================== ===============================================================================\n",
      "term                  value                                                                          \n",
      "===================== ===============================================================================\n",
      "diffractometer        kappa                                                                          \n",
      "geometry              K4CV                                                                           \n",
      "class                 SimulatedK4CV                                                                  \n",
      "energy (keV)          8.05065                                                                        \n",
      "wavelength (angstrom) 1.54005                                                                        \n",
      "calc engine           hkl                                                                            \n",
      "mode                  constant_phi                                                                   \n",
      "positions             ====== =======                                                                 \n",
      "                      name   value                                                                   \n",
      "                      ====== =======                                                                 \n",
      "                      komega 0.00000                                                                 \n",
      "                      kappa  0.00000                                                                 \n",
      "                      kphi   0.00000                                                                 \n",
      "                      tth    0.00000                                                                 \n",
      "                      ====== =======                                                                 \n",
      "constraints           ====== ========= ========== ===== ====                                         \n",
      "                      axis   low_limit high_limit value fit                                          \n",
      "                      ====== ========= ========== ===== ====                                         \n",
      "                      komega -180.0    180.0      0.0   True                                         \n",
      "                      kappa  -180.0    180.0      0.0   True                                         \n",
      "                      kphi   -180.0    180.0      0.0   True                                         \n",
      "                      tth    -180.0    180.0      0.0   True                                         \n",
      "                      ====== ========= ========== ===== ====                                         \n",
      "sample: silicon       ================= =============================================================\n",
      "                      term              value                                                        \n",
      "                      ================= =============================================================\n",
      "                      unit cell edges   a=5.4310196, b=5.4310196, c=5.4310196                        \n",
      "                      unit cell angles  alpha=90.0, beta=90.0, gamma=90.0                            \n",
      "                      ref 1 (hkl)       h=4.0, k=0.0, l=0.0                                          \n",
      "                      ref 1 positioners komega=-145.45100, kappa=0.00000, kphi=0.00000, tth=69.09660 \n",
      "                      ref 2 (hkl)       h=0.0, k=4.0, l=0.0                                          \n",
      "                      ref 2 positioners komega=-145.45100, kappa=0.00000, kphi=90.00000, tth=69.09660\n",
      "                      [U]               [[-1.22173048e-05 -1.00000000e+00  0.00000000e+00]           \n",
      "                                         [ 0.00000000e+00  0.00000000e+00  1.00000000e+00]           \n",
      "                                         [-1.00000000e+00  1.22173048e-05  0.00000000e+00]]          \n",
      "                      [UB]              [[-1.41342870e-05 -1.15690713e+00  7.08409963e-17]           \n",
      "                                         [ 0.00000000e+00  0.00000000e+00  1.15690713e+00]           \n",
      "                                         [-1.15690713e+00  1.41342870e-05  7.08392653e-17]]          \n",
      "                      ================= =============================================================\n",
      "===================== ===============================================================================\n",
      "\n"
     ]
    }
   ],
   "source": [
    "pa()"
   ]
  },
  {
   "cell_type": "code",
   "execution_count": 26,
   "id": "detailed-vegetable",
   "metadata": {},
   "outputs": [
    {
     "data": {
      "text/plain": [
       "MoveStatus(done=True, pos=kappa_komega, elapsed=0.0, success=True, settle_time=0.0)"
      ]
     },
     "execution_count": 26,
     "metadata": {},
     "output_type": "execute_result"
    }
   ],
   "source": [
    "kappa.komega.move(57.45)"
   ]
  },
  {
   "cell_type": "code",
   "execution_count": 27,
   "id": "homeless-tribune",
   "metadata": {},
   "outputs": [
    {
     "data": {
      "text/plain": [
       "SimulatedK4CVPseudoPos(h=0.0, k=0.0, l=0.0)"
      ]
     },
     "execution_count": 27,
     "metadata": {},
     "output_type": "execute_result"
    }
   ],
   "source": [
    "kappa.position"
   ]
  },
  {
   "cell_type": "code",
   "execution_count": 29,
   "id": "rolled-plymouth",
   "metadata": {},
   "outputs": [
    {
     "data": {
      "text/plain": [
       "57.45"
      ]
     },
     "execution_count": 29,
     "metadata": {},
     "output_type": "execute_result"
    }
   ],
   "source": [
    "kappa.komega.position"
   ]
  },
  {
   "cell_type": "code",
   "execution_count": 34,
   "id": "technological-terminology",
   "metadata": {},
   "outputs": [
    {
     "data": {
      "text/plain": [
       "SimulatedK4CVRealPos(komega=57.45, kappa=0, kphi=0, tth=0)"
      ]
     },
     "execution_count": 34,
     "metadata": {},
     "output_type": "execute_result"
    }
   ],
   "source": [
    "kappa.real_position"
   ]
  },
  {
   "cell_type": "code",
   "execution_count": 40,
   "id": "potential-situation",
   "metadata": {},
   "outputs": [
    {
     "data": {
      "text/plain": [
       "MoveStatus(done=True, pos=kappa_kphi, elapsed=0.0, success=True, settle_time=0.0)"
      ]
     },
     "execution_count": 40,
     "metadata": {},
     "output_type": "execute_result"
    }
   ],
   "source": [
    "kappa.kphi.move(57.045)"
   ]
  },
  {
   "cell_type": "code",
   "execution_count": 36,
   "id": "prepared-shanghai",
   "metadata": {},
   "outputs": [
    {
     "data": {
      "text/plain": [
       "MoveStatus(done=True, pos=kappa_kappa, elapsed=0.0, success=True, settle_time=0.0)"
      ]
     },
     "execution_count": 36,
     "metadata": {},
     "output_type": "execute_result"
    }
   ],
   "source": [
    "kappa.kappa.move(134.756)"
   ]
  },
  {
   "cell_type": "code",
   "execution_count": 41,
   "id": "decent-bloom",
   "metadata": {},
   "outputs": [
    {
     "data": {
      "text/plain": [
       "MoveStatus(done=True, pos=kappa_komega, elapsed=0.0, success=True, settle_time=0.0)"
      ]
     },
     "execution_count": 41,
     "metadata": {},
     "output_type": "execute_result"
    }
   ],
   "source": [
    "kappa.komega.move(67.045)"
   ]
  },
  {
   "cell_type": "code",
   "execution_count": 42,
   "id": "bizarre-choir",
   "metadata": {},
   "outputs": [
    {
     "data": {
      "text/plain": [
       "MoveStatus(done=True, pos=kappa_tth, elapsed=0.0, success=True, settle_time=0.0)"
      ]
     },
     "execution_count": 42,
     "metadata": {},
     "output_type": "execute_result"
    }
   ],
   "source": [
    "kappa.tth.move(20)"
   ]
  },
  {
   "cell_type": "code",
   "execution_count": 43,
   "id": "similar-firewall",
   "metadata": {},
   "outputs": [
    {
     "name": "stdout",
     "output_type": "stream",
     "text": [
      "===================== =================== =========\n",
      "term                  value               axis_type\n",
      "===================== =================== =========\n",
      "diffractometer        kappa                        \n",
      "sample name           silicon                      \n",
      "energy (keV)          8.05065                      \n",
      "wavelength (angstrom) 1.54005                      \n",
      "calc engine           hkl                          \n",
      "mode                  constant_phi                 \n",
      "h                     -0.2040455774905655 pseudo   \n",
      "k                     0.45637227377034434 pseudo   \n",
      "l                     1.1180757730053066  pseudo   \n",
      "komega                67.045              real     \n",
      "kappa                 134.756             real     \n",
      "kphi                  57.045              real     \n",
      "tth                   20                  real     \n",
      "===================== =================== =========\n",
      "\n"
     ]
    }
   ],
   "source": [
    "wh()"
   ]
  },
  {
   "cell_type": "code",
   "execution_count": 50,
   "id": "moral-corps",
   "metadata": {},
   "outputs": [
    {
     "name": "stdout",
     "output_type": "stream",
     "text": [
      "\n",
      "fourc modes: ['bissector', 'constant_omega', 'constant_chi', 'constant_phi', 'double_diffraction', 'psi_constant']\n",
      "\n",
      "selected mode: constant_phi\n",
      "\n",
      "===== =================== ========== ===== ====\n",
      "axis  low_limit           high_limit value fit \n",
      "===== =================== ========== ===== ====\n",
      "omega -20.0               150.0      0.0   True\n",
      "chi   -29.999999999999996 100.0      0.0   True\n",
      "phi   -180.0              180.0      0.0   True\n",
      "tth   0.0                 180.0      0.0   True\n",
      "===== =================== ========== ===== ====\n",
      "\n",
      "\n",
      "WARNING: wavelength set to 1.540 A = 80509.22 eV\n",
      "cannot connect to 29idKappa:UBenergy\n",
      "cannot connect to 29idKappa:UBlambda\n"
     ]
    }
   ],
   "source": [
    "%run Macros_29id/ScanFunctions_hkl.py"
   ]
  },
  {
   "cell_type": "code",
   "execution_count": null,
   "id": "primary-container",
   "metadata": {},
   "outputs": [],
   "source": [
    "Sorry for the interruption, it is all yours now"
   ]
  }
 ],
 "metadata": {
  "kernelspec": {
   "display_name": "hkl",
   "language": "python",
   "name": "hkl"
  },
  "language_info": {
   "codemirror_mode": {
    "name": "ipython",
    "version": 3
   },
   "file_extension": ".py",
   "mimetype": "text/x-python",
   "name": "python",
   "nbconvert_exporter": "python",
   "pygments_lexer": "ipython3",
   "version": "3.7.7"
  }
 },
 "nbformat": 4,
 "nbformat_minor": 5
}
