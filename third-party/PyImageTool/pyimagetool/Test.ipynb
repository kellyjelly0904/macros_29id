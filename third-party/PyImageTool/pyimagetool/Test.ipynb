{
 "cells": [
  {
   "cell_type": "code",
   "execution_count": 1,
   "metadata": {},
   "outputs": [],
   "source": [
    "from DataMatrix import RegularSpacedData\n",
    "import numpy as np\n",
    "from ImageTool import ImageTool\n",
    "import h5py\n",
    "import xarray as xr\n",
    "%gui qt"
   ]
  },
  {
   "cell_type": "code",
   "execution_count": 2,
   "metadata": {},
   "outputs": [],
   "source": [
    "f = h5py.File('Mn1610_02_00034.h5', 'r')\n",
    "counts = np.array(f['data']['counts'])\n",
    "exposure = np.array(f['data']['exposure'])\n",
    "counts[exposure <= 0] = 0\n",
    "dat_mat = counts\n",
    "dat_mat[exposure > 0] /= exposure[exposure > 0]\n",
    "axes = {}\n",
    "for index, axis in enumerate(['axis0', 'axis1', 'axis2']):\n",
    "    if axis == 'axis0':\n",
    "        axes['perp'] = f['data'][axis].attrs['offset'] + np.arange(dat_mat.shape[index]) * f['data'][axis].attrs['delta']\n",
    "    elif axis == 'axis1':\n",
    "        axes['slit'] = f['data'][axis].attrs['offset'] + np.arange(dat_mat.shape[index]) * f['data'][axis].attrs['delta']\n",
    "    elif axis == 'axis2':\n",
    "        axes['energy'] = f['data'][axis].attrs['offset'] + np.arange(dat_mat.shape[index]) * f['data'][axis].attrs['delta']\n",
    "f.close()"
   ]
  },
  {
   "cell_type": "code",
   "execution_count": 3,
   "metadata": {},
   "outputs": [],
   "source": [
    "my_data = RegularSpacedData.from_xarray_dataarray(xr.DataArray(dat_mat, coords=axes, dims=axes.keys()))\n",
    "my_data.data[np.isnan(my_data.data)] = 0"
   ]
  },
  {
   "cell_type": "code",
   "execution_count": 4,
   "metadata": {},
   "outputs": [],
   "source": [
    "image_tool = ImageTool(my_data, layout=ImageTool.LayoutSimple)"
   ]
  },
  {
   "cell_type": "code",
   "execution_count": 5,
   "metadata": {},
   "outputs": [],
   "source": [
    "image_tool.show()"
   ]
  },
  {
   "cell_type": "code",
   "execution_count": null,
   "metadata": {},
   "outputs": [],
   "source": []
  }
 ],
 "metadata": {
  "kernelspec": {
   "display_name": "Python 3",
   "language": "python",
   "name": "python3"
  },
  "language_info": {
   "codemirror_mode": {
    "name": "ipython",
    "version": 3
   },
   "file_extension": ".py",
   "mimetype": "text/x-python",
   "name": "python",
   "nbconvert_exporter": "python",
   "pygments_lexer": "ipython3",
   "version": "3.7.3"
  }
 },
 "nbformat": 4,
 "nbformat_minor": 2
}
